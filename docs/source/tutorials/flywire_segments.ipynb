{
 "cells": [
  {
   "cell_type": "raw",
   "metadata": {
    "raw_mimetype": "text/restructuredtext"
   },
   "source": [
    ".. _flywire_segments:\n",
    "\n",
    "Querying the segmentation\n",
    "=========================\n",
    "For certain tasks it can be useful to query the FlyWire segmentation directly. Before we demonstrate this, a quick primer on terminology:\n",
    "\n",
    "1. In FlyWire, the ID of a neuron (e.g. ``720575940618780781``) is called the \"root ID\".\n",
    "2. Each root ID is a collection of \"supervoxels\". These supervoxels are the atomic, immutable units of the segmentation.\n",
    "3. Every time you edit a neuron (i.e. add or remove supervoxel by merging or splitting) you create a new root ID.\n",
    "    \n",
    "Because of this dichotomy of IDs, you have to be explicit about whether you want root or supervoxel IDs.\n",
    "\n",
    "Let's illustrate by running some examples:"
   ]
  },
  {
   "cell_type": "code",
   "execution_count": 1,
   "metadata": {},
   "outputs": [],
   "source": [
    "from fafbseg import flywire"
   ]
  },
  {
   "cell_type": "code",
   "execution_count": 3,
   "metadata": {},
   "outputs": [
    {
     "data": {
      "text/plain": [
       "array([720575940634982798])"
      ]
     },
     "execution_count": 3,
     "metadata": {},
     "output_type": "execute_result"
    }
   ],
   "source": [
    "# Fetch the root IDs at given location(s)\n",
    "roots = flywire.locs_to_segments([[95764, 60326, 4855]])\n",
    "roots"
   ]
  },
  {
   "cell_type": "code",
   "execution_count": 8,
   "metadata": {},
   "outputs": [
    {
     "data": {
      "text/plain": [
       "{720575940634982798: array([76493436865879671, 76493436932737269, 76493436932761239, ...,\n",
       "        78463967860961742, 78463967860956632, 78463967860960467],\n",
       "       dtype=uint64)}"
      ]
     },
     "execution_count": 8,
     "metadata": {},
     "output_type": "execute_result"
    }
   ],
   "source": [
    "# Get the supervoxels making up a given root\n",
    "flywire.roots_to_supervoxels(720575940634982798)"
   ]
  },
  {
   "cell_type": "code",
   "execution_count": 5,
   "metadata": {},
   "outputs": [
    {
     "data": {
      "text/plain": [
       "array([ True, False])"
      ]
     },
     "execution_count": 5,
     "metadata": {},
     "output_type": "execute_result"
    }
   ],
   "source": [
    "# Check if root IDs are outdated (i.e. have more recent edits)\n",
    "flywire.is_latest_root([720575940626046792, 720575940621835755])"
   ]
  },
  {
   "cell_type": "code",
   "execution_count": 2,
   "metadata": {},
   "outputs": [
    {
     "data": {
      "application/vnd.jupyter.widget-view+json": {
       "model_id": "",
       "version_major": 2,
       "version_minor": 0
      },
      "text/plain": [
       "Updating:   0%|          | 0/3 [00:00<?, ?it/s]"
      ]
     },
     "metadata": {},
     "output_type": "display_data"
    },
    {
     "data": {
      "text/html": [
       "<div>\n",
       "<style scoped>\n",
       "    .dataframe tbody tr th:only-of-type {\n",
       "        vertical-align: middle;\n",
       "    }\n",
       "\n",
       "    .dataframe tbody tr th {\n",
       "        vertical-align: top;\n",
       "    }\n",
       "\n",
       "    .dataframe thead th {\n",
       "        text-align: right;\n",
       "    }\n",
       "</style>\n",
       "<table border=\"1\" class=\"dataframe\">\n",
       "  <thead>\n",
       "    <tr style=\"text-align: right;\">\n",
       "      <th></th>\n",
       "      <th>old_id</th>\n",
       "      <th>new_id</th>\n",
       "      <th>confidence</th>\n",
       "      <th>changed</th>\n",
       "    </tr>\n",
       "  </thead>\n",
       "  <tbody>\n",
       "    <tr>\n",
       "      <th>0</th>\n",
       "      <td>720575940621835755</td>\n",
       "      <td>720575940623058324</td>\n",
       "      <td>0.99</td>\n",
       "      <td>True</td>\n",
       "    </tr>\n",
       "    <tr>\n",
       "      <th>1</th>\n",
       "      <td>720575940608788840</td>\n",
       "      <td>720575940608788840</td>\n",
       "      <td>1.00</td>\n",
       "      <td>False</td>\n",
       "    </tr>\n",
       "    <tr>\n",
       "      <th>2</th>\n",
       "      <td>720575940628913983</td>\n",
       "      <td>720575940623058324</td>\n",
       "      <td>1.00</td>\n",
       "      <td>True</td>\n",
       "    </tr>\n",
       "  </tbody>\n",
       "</table>\n",
       "</div>"
      ],
      "text/plain": [
       "               old_id              new_id  confidence  changed\n",
       "0  720575940621835755  720575940623058324        0.99     True\n",
       "1  720575940608788840  720575940608788840        1.00    False\n",
       "2  720575940628913983  720575940623058324        1.00     True"
      ]
     },
     "execution_count": 2,
     "metadata": {},
     "output_type": "execute_result"
    }
   ],
   "source": [
    "# Update a couple of old root IDs\n",
    "updated = flywire.update_ids([720575940621835755, 720575940608788840, 720575940628913983])\n",
    "updated"
   ]
  },
  {
   "cell_type": "code",
   "execution_count": 7,
   "metadata": {
    "raw_mimetype": "text/restructuredtext"
   },
   "outputs": [
    {
     "data": {
      "text/html": [
       "<div>\n",
       "<style scoped>\n",
       "    .dataframe tbody tr th:only-of-type {\n",
       "        vertical-align: middle;\n",
       "    }\n",
       "\n",
       "    .dataframe tbody tr th {\n",
       "        vertical-align: top;\n",
       "    }\n",
       "\n",
       "    .dataframe thead th {\n",
       "        text-align: right;\n",
       "    }\n",
       "</style>\n",
       "<table border=\"1\" class=\"dataframe\">\n",
       "  <thead>\n",
       "    <tr style=\"text-align: right;\">\n",
       "      <th></th>\n",
       "      <th>after_root_ids</th>\n",
       "      <th>before_root_ids</th>\n",
       "      <th>is_merge</th>\n",
       "      <th>operation_id</th>\n",
       "      <th>segment</th>\n",
       "      <th>timestamp</th>\n",
       "      <th>user_id</th>\n",
       "      <th>user_name</th>\n",
       "    </tr>\n",
       "  </thead>\n",
       "  <tbody>\n",
       "    <tr>\n",
       "      <th>0</th>\n",
       "      <td>[720575940621835755]</td>\n",
       "      <td>[720575940633169983]</td>\n",
       "      <td>False</td>\n",
       "      <td>255126</td>\n",
       "      <td>720575940623058324</td>\n",
       "      <td>2020-12-11 14:42:27.371</td>\n",
       "      <td>957</td>\n",
       "      <td>Varun Sane</td>\n",
       "    </tr>\n",
       "    <tr>\n",
       "      <th>1</th>\n",
       "      <td>[720575940629051077]</td>\n",
       "      <td>[720575940621465937, 720575940621466193]</td>\n",
       "      <td>True</td>\n",
       "      <td>375640</td>\n",
       "      <td>720575940623058324</td>\n",
       "      <td>2021-04-07 11:19:35.826</td>\n",
       "      <td>372</td>\n",
       "      <td>Yijie Yin</td>\n",
       "    </tr>\n",
       "    <tr>\n",
       "      <th>2</th>\n",
       "      <td>[720575940622651284]</td>\n",
       "      <td>[720575940619923352, 720575940629051077]</td>\n",
       "      <td>True</td>\n",
       "      <td>375641</td>\n",
       "      <td>720575940623058324</td>\n",
       "      <td>2021-04-07 11:19:51.559</td>\n",
       "      <td>372</td>\n",
       "      <td>Yijie Yin</td>\n",
       "    </tr>\n",
       "    <tr>\n",
       "      <th>3</th>\n",
       "      <td>[720575940626570768]</td>\n",
       "      <td>[720575940621835755, 720575940622651284]</td>\n",
       "      <td>True</td>\n",
       "      <td>375643</td>\n",
       "      <td>720575940623058324</td>\n",
       "      <td>2021-04-07 11:20:03.114</td>\n",
       "      <td>372</td>\n",
       "      <td>Yijie Yin</td>\n",
       "    </tr>\n",
       "    <tr>\n",
       "      <th>4</th>\n",
       "      <td>[720575940630564772]</td>\n",
       "      <td>[720575940626570768]</td>\n",
       "      <td>False</td>\n",
       "      <td>546651</td>\n",
       "      <td>720575940623058324</td>\n",
       "      <td>2021-08-19 07:46:58.712</td>\n",
       "      <td>957</td>\n",
       "      <td>Varun Sane</td>\n",
       "    </tr>\n",
       "  </tbody>\n",
       "</table>\n",
       "</div>"
      ],
      "text/plain": [
       "         after_root_ids                           before_root_ids  is_merge  \\\n",
       "0  [720575940621835755]                      [720575940633169983]     False   \n",
       "1  [720575940629051077]  [720575940621465937, 720575940621466193]      True   \n",
       "2  [720575940622651284]  [720575940619923352, 720575940629051077]      True   \n",
       "3  [720575940626570768]  [720575940621835755, 720575940622651284]      True   \n",
       "4  [720575940630564772]                      [720575940626570768]     False   \n",
       "\n",
       "   operation_id             segment               timestamp user_id  \\\n",
       "0        255126  720575940623058324 2020-12-11 14:42:27.371     957   \n",
       "1        375640  720575940623058324 2021-04-07 11:19:35.826     372   \n",
       "2        375641  720575940623058324 2021-04-07 11:19:51.559     372   \n",
       "3        375643  720575940623058324 2021-04-07 11:20:03.114     372   \n",
       "4        546651  720575940623058324 2021-08-19 07:46:58.712     957   \n",
       "\n",
       "    user_name  \n",
       "0  Varun Sane  \n",
       "1   Yijie Yin  \n",
       "2   Yijie Yin  \n",
       "3   Yijie Yin  \n",
       "4  Varun Sane  "
      ]
     },
     "execution_count": 7,
     "metadata": {},
     "output_type": "execute_result"
    }
   ],
   "source": [
    "# Fetch edits made to a neuron\n",
    "edits = flywire.fetch_edit_history(720575940623058324)\n",
    "edits.head()"
   ]
  },
  {
   "cell_type": "code",
   "execution_count": 10,
   "metadata": {},
   "outputs": [
    {
     "data": {
      "application/vnd.jupyter.widget-view+json": {
       "model_id": "",
       "version_major": 2,
       "version_minor": 0
      },
      "text/plain": [
       "Fetching L2 info:   0%|          | 0/3 [00:00<?, ?it/s]"
      ]
     },
     "metadata": {},
     "output_type": "display_data"
    },
    {
     "data": {
      "text/html": [
       "<div>\n",
       "<style scoped>\n",
       "    .dataframe tbody tr th:only-of-type {\n",
       "        vertical-align: middle;\n",
       "    }\n",
       "\n",
       "    .dataframe tbody tr th {\n",
       "        vertical-align: top;\n",
       "    }\n",
       "\n",
       "    .dataframe thead th {\n",
       "        text-align: right;\n",
       "    }\n",
       "</style>\n",
       "<table border=\"1\" class=\"dataframe\">\n",
       "  <thead>\n",
       "    <tr style=\"text-align: right;\">\n",
       "      <th></th>\n",
       "      <th>root_id</th>\n",
       "      <th>l2_chunks</th>\n",
       "      <th>chunks_missing</th>\n",
       "      <th>area_um2</th>\n",
       "      <th>size_um3</th>\n",
       "      <th>length_um</th>\n",
       "      <th>bounds_nm</th>\n",
       "    </tr>\n",
       "  </thead>\n",
       "  <tbody>\n",
       "    <tr>\n",
       "      <th>0</th>\n",
       "      <td>720575940608788840</td>\n",
       "      <td>226</td>\n",
       "      <td>1</td>\n",
       "      <td>1525.159808</td>\n",
       "      <td>61.966434</td>\n",
       "      <td>36.251</td>\n",
       "      <td>[452688, 468864, 235440, 248784, 17680, 26240]</td>\n",
       "    </tr>\n",
       "    <tr>\n",
       "      <th>0</th>\n",
       "      <td>720575940621835755</td>\n",
       "      <td>1553</td>\n",
       "      <td>0</td>\n",
       "      <td>20226.350720</td>\n",
       "      <td>666.047830</td>\n",
       "      <td>316.193</td>\n",
       "      <td>[327088, 496400, 121328, 250432, 16840, 221880]</td>\n",
       "    </tr>\n",
       "    <tr>\n",
       "      <th>0</th>\n",
       "      <td>720575940628913983</td>\n",
       "      <td>16</td>\n",
       "      <td>0</td>\n",
       "      <td>102.545536</td>\n",
       "      <td>9.756662</td>\n",
       "      <td>4.365</td>\n",
       "      <td>[337952, 345424, 157808, 163248, 164040, 165720]</td>\n",
       "    </tr>\n",
       "  </tbody>\n",
       "</table>\n",
       "</div>"
      ],
      "text/plain": [
       "              root_id  l2_chunks  chunks_missing      area_um2    size_um3  \\\n",
       "0  720575940608788840        226               1   1525.159808   61.966434   \n",
       "0  720575940621835755       1553               0  20226.350720  666.047830   \n",
       "0  720575940628913983         16               0    102.545536    9.756662   \n",
       "\n",
       "   length_um                                         bounds_nm  \n",
       "0     36.251    [452688, 468864, 235440, 248784, 17680, 26240]  \n",
       "0    316.193   [327088, 496400, 121328, 250432, 16840, 221880]  \n",
       "0      4.365  [337952, 345424, 157808, 163248, 164040, 165720]  "
      ]
     },
     "execution_count": 10,
     "metadata": {},
     "output_type": "execute_result"
    }
   ],
   "source": [
    "# Fetch basic info for a couple neurons using the L2 cache \n",
    "info = flywire.l2_info([720575940621835755, 720575940608788840, 720575940628913983])\n",
    "info.head()"
   ]
  }
 ],
 "metadata": {
  "celltoolbar": "Raw Cell Format",
  "kernelspec": {
   "display_name": "Python 3 (ipykernel)",
   "language": "python",
   "name": "python3"
  },
  "language_info": {
   "codemirror_mode": {
    "name": "ipython",
    "version": 3
   },
   "file_extension": ".py",
   "mimetype": "text/x-python",
   "name": "python",
   "nbconvert_exporter": "python",
   "pygments_lexer": "ipython3",
   "version": "3.7.5"
  },
  "widgets": {
   "application/vnd.jupyter.widget-state+json": {
    "state": {
     "08bf97cd7cfe474789b2d561addd484c": {
      "model_module": "@jupyter-widgets/controls",
      "model_module_version": "1.5.0",
      "model_name": "FloatProgressModel",
      "state": {
       "layout": "IPY_MODEL_a59704054fbe4a4ab5b83c6d5ca27928",
       "max": 3,
       "style": "IPY_MODEL_1d9164ec3865433b949b2d2fe9774902",
       "value": 3
      }
     },
     "0e9b11a877624692acfa5a6df85979c4": {
      "model_module": "@jupyter-widgets/controls",
      "model_module_version": "1.5.0",
      "model_name": "DescriptionStyleModel",
      "state": {
       "description_width": ""
      }
     },
     "152fa4799e504f79bd0094085cf08537": {
      "model_module": "@jupyter-widgets/controls",
      "model_module_version": "1.5.0",
      "model_name": "DescriptionStyleModel",
      "state": {
       "description_width": ""
      }
     },
     "1d9164ec3865433b949b2d2fe9774902": {
      "model_module": "@jupyter-widgets/controls",
      "model_module_version": "1.5.0",
      "model_name": "ProgressStyleModel",
      "state": {
       "description_width": ""
      }
     },
     "25f8b0b85fa347b881d1c2fa0126f457": {
      "model_module": "@jupyter-widgets/controls",
      "model_module_version": "1.5.0",
      "model_name": "DescriptionStyleModel",
      "state": {
       "description_width": ""
      }
     },
     "2b2157f8938f4b64879c69e3a6974eb3": {
      "model_module": "@jupyter-widgets/controls",
      "model_module_version": "1.5.0",
      "model_name": "HTMLModel",
      "state": {
       "layout": "IPY_MODEL_96496249af064c1cb45516c3512d20c7",
       "style": "IPY_MODEL_152fa4799e504f79bd0094085cf08537",
       "value": " 2/3 [00:02&lt;00:01,  1.47s/it]"
      }
     },
     "2c61e9bf1b1e4fe6aa09edc127eba8d0": {
      "model_module": "@jupyter-widgets/controls",
      "model_module_version": "1.5.0",
      "model_name": "ProgressStyleModel",
      "state": {
       "description_width": ""
      }
     },
     "36c0d20b01f94ece9ab90ca38fa2e898": {
      "model_module": "@jupyter-widgets/controls",
      "model_module_version": "1.5.0",
      "model_name": "HTMLModel",
      "state": {
       "layout": "IPY_MODEL_7e140fc924e2462fb4fc1ccd851b0022",
       "style": "IPY_MODEL_6154d580cf084b9f962bc6ad3c41a187",
       "value": "Fetching L2 info:  67%"
      }
     },
     "392185f60dec4580a0084850ee12cf38": {
      "model_module": "@jupyter-widgets/base",
      "model_module_version": "1.2.0",
      "model_name": "LayoutModel",
      "state": {}
     },
     "3d7cd687d1e9465996515d6a7a30502d": {
      "model_module": "@jupyter-widgets/controls",
      "model_module_version": "1.5.0",
      "model_name": "HTMLModel",
      "state": {
       "layout": "IPY_MODEL_65c6a09cf6fa4299b739e28c5fc2e9d4",
       "style": "IPY_MODEL_25f8b0b85fa347b881d1c2fa0126f457",
       "value": "Fetching L2 info:  67%"
      }
     },
     "4184effa39124bd9bfe9c0315e73881d": {
      "model_module": "@jupyter-widgets/controls",
      "model_module_version": "1.5.0",
      "model_name": "ProgressStyleModel",
      "state": {
       "description_width": ""
      }
     },
     "4f810236a5c3446c8193d7e3d56e1759": {
      "model_module": "@jupyter-widgets/controls",
      "model_module_version": "1.5.0",
      "model_name": "HTMLModel",
      "state": {
       "layout": "IPY_MODEL_aedd6422d25e4a27bc5eebc12032aa46",
       "style": "IPY_MODEL_0e9b11a877624692acfa5a6df85979c4",
       "value": " 3/3 [00:06&lt;00:00,  1.76s/it]"
      }
     },
     "6154d580cf084b9f962bc6ad3c41a187": {
      "model_module": "@jupyter-widgets/controls",
      "model_module_version": "1.5.0",
      "model_name": "DescriptionStyleModel",
      "state": {
       "description_width": ""
      }
     },
     "62ec0e2864de4c598d389147ab10ffec": {
      "model_module": "@jupyter-widgets/controls",
      "model_module_version": "1.5.0",
      "model_name": "DescriptionStyleModel",
      "state": {
       "description_width": ""
      }
     },
     "65c6a09cf6fa4299b739e28c5fc2e9d4": {
      "model_module": "@jupyter-widgets/base",
      "model_module_version": "1.2.0",
      "model_name": "LayoutModel",
      "state": {}
     },
     "671835f669e94d79b8007360b77cded3": {
      "model_module": "@jupyter-widgets/base",
      "model_module_version": "1.2.0",
      "model_name": "LayoutModel",
      "state": {}
     },
     "7e140fc924e2462fb4fc1ccd851b0022": {
      "model_module": "@jupyter-widgets/base",
      "model_module_version": "1.2.0",
      "model_name": "LayoutModel",
      "state": {}
     },
     "7fe0958005ac43e69f29d1ac3ed69ce2": {
      "model_module": "@jupyter-widgets/controls",
      "model_module_version": "1.5.0",
      "model_name": "DescriptionStyleModel",
      "state": {
       "description_width": ""
      }
     },
     "87c5bf270fb14d5ca4645fc56e8cee86": {
      "model_module": "@jupyter-widgets/controls",
      "model_module_version": "1.5.0",
      "model_name": "HTMLModel",
      "state": {
       "layout": "IPY_MODEL_da35cd98e52544df9f0209629211143b",
       "style": "IPY_MODEL_62ec0e2864de4c598d389147ab10ffec",
       "value": "Updating: 100%"
      }
     },
     "8a88ebd3668c4a55bbc06c83c25f9d3b": {
      "model_module": "@jupyter-widgets/controls",
      "model_module_version": "1.5.0",
      "model_name": "FloatProgressModel",
      "state": {
       "layout": "IPY_MODEL_f7fa5cc1b4574dec82d8c0699e708f8c",
       "max": 3,
       "style": "IPY_MODEL_2c61e9bf1b1e4fe6aa09edc127eba8d0",
       "value": 3
      }
     },
     "96496249af064c1cb45516c3512d20c7": {
      "model_module": "@jupyter-widgets/base",
      "model_module_version": "1.2.0",
      "model_name": "LayoutModel",
      "state": {}
     },
     "a59704054fbe4a4ab5b83c6d5ca27928": {
      "model_module": "@jupyter-widgets/base",
      "model_module_version": "1.2.0",
      "model_name": "LayoutModel",
      "state": {}
     },
     "aea40ae6995d4babbcf686bea789bce4": {
      "model_module": "@jupyter-widgets/base",
      "model_module_version": "1.2.0",
      "model_name": "LayoutModel",
      "state": {}
     },
     "aedd6422d25e4a27bc5eebc12032aa46": {
      "model_module": "@jupyter-widgets/base",
      "model_module_version": "1.2.0",
      "model_name": "LayoutModel",
      "state": {}
     },
     "b2b35922c6fd4012bef0acde72efc2bb": {
      "model_module": "@jupyter-widgets/controls",
      "model_module_version": "1.5.0",
      "model_name": "HTMLModel",
      "state": {
       "layout": "IPY_MODEL_d35bee3c96a94ca19cda15b6603644a1",
       "style": "IPY_MODEL_7fe0958005ac43e69f29d1ac3ed69ce2",
       "value": " 2/3 [00:03&lt;00:01,  1.76s/it]"
      }
     },
     "d35bee3c96a94ca19cda15b6603644a1": {
      "model_module": "@jupyter-widgets/base",
      "model_module_version": "1.2.0",
      "model_name": "LayoutModel",
      "state": {}
     },
     "da35cd98e52544df9f0209629211143b": {
      "model_module": "@jupyter-widgets/base",
      "model_module_version": "1.2.0",
      "model_name": "LayoutModel",
      "state": {}
     },
     "e3a7fb2039bb48898825d1e4acc0716f": {
      "model_module": "@jupyter-widgets/controls",
      "model_module_version": "1.5.0",
      "model_name": "FloatProgressModel",
      "state": {
       "layout": "IPY_MODEL_e438f78f3ab946e8a91966cccf16e9e1",
       "max": 3,
       "style": "IPY_MODEL_4184effa39124bd9bfe9c0315e73881d",
       "value": 3
      }
     },
     "e438f78f3ab946e8a91966cccf16e9e1": {
      "model_module": "@jupyter-widgets/base",
      "model_module_version": "1.2.0",
      "model_name": "LayoutModel",
      "state": {}
     },
     "f7fa5cc1b4574dec82d8c0699e708f8c": {
      "model_module": "@jupyter-widgets/base",
      "model_module_version": "1.2.0",
      "model_name": "LayoutModel",
      "state": {}
     }
    },
    "version_major": 2,
    "version_minor": 0
   }
  }
 },
 "nbformat": 4,
 "nbformat_minor": 4
}
