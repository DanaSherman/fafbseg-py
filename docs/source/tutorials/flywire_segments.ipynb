{
 "cells": [
  {
   "cell_type": "raw",
   "metadata": {
    "raw_mimetype": "text/restructuredtext"
   },
   "source": [
    ".. _flywire_segments:\n",
    "\n",
    "Working with segmentation\n",
    "=========================\n",
    "For certain tasks it can be useful to query the flywire segmentation. Before we demonstrate this, a quick primer on terminology:\n",
    "\n",
    "1. In flywire, the ID of a neuron (e.g. ``720575940618780781``) is called the \"root ID\".\n",
    "2. Each root ID is a collection of \"supervoxels\". These supervoxels are the atomic, immutable units of the segmentation.\n",
    "3. Everytime you edit a neuron (i.e. add or remove supervoxel by merging/splitting) it gets a new root ID.\n",
    "    \n",
    "Because of this dichotomy of IDs, you have to be explicit about whether you want root or supervoxel IDs.\n",
    "\n",
    "Let's demonstrate this by running a realistic example: "
   ]
  },
  {
   "cell_type": "code",
   "execution_count": 8,
   "metadata": {},
   "outputs": [
    {
     "name": "stderr",
     "output_type": "stream",
     "text": [
      "INFO  : Global CATMAID instance set. Caching is ON. (pymaid)\n"
     ]
    },
    {
     "data": {
      "application/vnd.jupyter.widget-view+json": {
       "model_id": "",
       "version_major": 2,
       "version_minor": 0
      },
      "text/plain": [
       "HBox(children=(HTML(value='Make nrn'), FloatProgress(value=0.0, max=1.0), HTML(value='')))"
      ]
     },
     "metadata": {},
     "output_type": "display_data"
    },
    {
     "name": "stdout",
     "output_type": "stream",
     "text": [
      "Transform path: FAFB14 -> FAFB14raw -> FLYWIREraw\n"
     ]
    }
   ],
   "source": [
    "import fafbseg\n",
    "import pymaid\n",
    "import navis\n",
    "\n",
    "# Connect to CATMAID\n",
    "rm = pymaid.connect_catmaid()\n",
    "\n",
    "# Load a neuron from CATMAID\n",
    "n = pymaid.get_neuron(16)\n",
    "\n",
    "# Transform neuron from FAFB14 to flywire voxels\n",
    "xf = navis.xform_brain(n, source='FAFB14', target='FLYWIREraw')"
   ]
  },
  {
   "cell_type": "raw",
   "metadata": {
    "raw_mimetype": "text/restructuredtext"
   },
   "source": [
    "Now we will fetch the root ID at each node of this CATMAID neuron"
   ]
  },
  {
   "cell_type": "code",
   "execution_count": 9,
   "metadata": {},
   "outputs": [
    {
     "data": {
      "text/html": [
       "<div>\n",
       "<style scoped>\n",
       "    .dataframe tbody tr th:only-of-type {\n",
       "        vertical-align: middle;\n",
       "    }\n",
       "\n",
       "    .dataframe tbody tr th {\n",
       "        vertical-align: top;\n",
       "    }\n",
       "\n",
       "    .dataframe thead th {\n",
       "        text-align: right;\n",
       "    }\n",
       "</style>\n",
       "<table border=\"1\" class=\"dataframe\">\n",
       "  <thead>\n",
       "    <tr style=\"text-align: right;\">\n",
       "      <th></th>\n",
       "      <th>node_id</th>\n",
       "      <th>parent_id</th>\n",
       "      <th>creator_id</th>\n",
       "      <th>x</th>\n",
       "      <th>y</th>\n",
       "      <th>z</th>\n",
       "      <th>radius</th>\n",
       "      <th>confidence</th>\n",
       "      <th>type</th>\n",
       "      <th>root_id</th>\n",
       "    </tr>\n",
       "  </thead>\n",
       "  <tbody>\n",
       "    <tr>\n",
       "      <th>0</th>\n",
       "      <td>72</td>\n",
       "      <td>71</td>\n",
       "      <td>2</td>\n",
       "      <td>119526.679688</td>\n",
       "      <td>37071.757812</td>\n",
       "      <td>4258.0</td>\n",
       "      <td>-0.1</td>\n",
       "      <td>5</td>\n",
       "      <td>slab</td>\n",
       "      <td>720575940621835755</td>\n",
       "    </tr>\n",
       "    <tr>\n",
       "      <th>1</th>\n",
       "      <td>1631</td>\n",
       "      <td>1630</td>\n",
       "      <td>2</td>\n",
       "      <td>109709.054688</td>\n",
       "      <td>33938.710938</td>\n",
       "      <td>4923.0</td>\n",
       "      <td>-0.1</td>\n",
       "      <td>5</td>\n",
       "      <td>slab</td>\n",
       "      <td>720575940621835755</td>\n",
       "    </tr>\n",
       "    <tr>\n",
       "      <th>2</th>\n",
       "      <td>125055</td>\n",
       "      <td>125054</td>\n",
       "      <td>12</td>\n",
       "      <td>110585.523438</td>\n",
       "      <td>34993.304688</td>\n",
       "      <td>4923.0</td>\n",
       "      <td>-0.1</td>\n",
       "      <td>5</td>\n",
       "      <td>slab</td>\n",
       "      <td>720575940621835755</td>\n",
       "    </tr>\n",
       "    <tr>\n",
       "      <th>3</th>\n",
       "      <td>217</td>\n",
       "      <td>216</td>\n",
       "      <td>2</td>\n",
       "      <td>116653.437500</td>\n",
       "      <td>35327.523438</td>\n",
       "      <td>4404.0</td>\n",
       "      <td>-0.1</td>\n",
       "      <td>5</td>\n",
       "      <td>slab</td>\n",
       "      <td>720575940621835755</td>\n",
       "    </tr>\n",
       "    <tr>\n",
       "      <th>4</th>\n",
       "      <td>128575</td>\n",
       "      <td>128576</td>\n",
       "      <td>12</td>\n",
       "      <td>122785.312500</td>\n",
       "      <td>43073.925781</td>\n",
       "      <td>3726.0</td>\n",
       "      <td>-0.1</td>\n",
       "      <td>5</td>\n",
       "      <td>slab</td>\n",
       "      <td>720575940621835755</td>\n",
       "    </tr>\n",
       "  </tbody>\n",
       "</table>\n",
       "</div>"
      ],
      "text/plain": [
       "   node_id  parent_id creator_id              x             y       z  radius  \\\n",
       "0       72         71          2  119526.679688  37071.757812  4258.0    -0.1   \n",
       "1     1631       1630          2  109709.054688  33938.710938  4923.0    -0.1   \n",
       "2   125055     125054         12  110585.523438  34993.304688  4923.0    -0.1   \n",
       "3      217        216          2  116653.437500  35327.523438  4404.0    -0.1   \n",
       "4   128575     128576         12  122785.312500  43073.925781  3726.0    -0.1   \n",
       "\n",
       "  confidence  type             root_id  \n",
       "0          5  slab  720575940621835755  \n",
       "1          5  slab  720575940621835755  \n",
       "2          5  slab  720575940621835755  \n",
       "3          5  slab  720575940621835755  \n",
       "4          5  slab  720575940621835755  "
      ]
     },
     "execution_count": 9,
     "metadata": {},
     "output_type": "execute_result"
    }
   ],
   "source": [
    "xf.nodes['root_id'] = fafbseg.flywire.locs_to_segments(xf.nodes[['x','y','z']].values, root_ids=True)\n",
    "xf.nodes.head()"
   ]
  },
  {
   "cell_type": "raw",
   "metadata": {
    "raw_mimetype": "text/restructuredtext"
   },
   "source": [
    "Some of these root IDs are probably bycatch from imprecisely placed nodes. The following line of \n",
    "code counts how many times we have \"hit\" a given root ID:"
   ]
  },
  {
   "cell_type": "code",
   "execution_count": 13,
   "metadata": {},
   "outputs": [
    {
     "data": {
      "text/plain": [
       "root_id\n",
       "720575940621835755    15550\n",
       "720575940608788840      562\n",
       "720575940628913983      103\n",
       "720575940623172447       83\n",
       "720575940616754529       56\n",
       "720575940521261247       53\n",
       "720575940595294780       32\n",
       "720575940627437275       31\n",
       "720575940619923352       18\n",
       "720575940638453494       15\n",
       "dtype: int64"
      ]
     },
     "execution_count": 13,
     "metadata": {},
     "output_type": "execute_result"
    }
   ],
   "source": [
    "counts = xf.nodes.groupby('root_id').size().sort_values(ascending=False)\n",
    "counts.head(10)"
   ]
  },
  {
   "cell_type": "raw",
   "metadata": {
    "raw_mimetype": "text/restructuredtext"
   },
   "source": [
    "Let's drop anything with less than 5 hits and load the segments into flywire:"
   ]
  },
  {
   "cell_type": "code",
   "execution_count": 16,
   "metadata": {},
   "outputs": [
    {
     "data": {
      "text/plain": [
       "'https://ngl.flywire.ai/?json_url=https://globalv1.flywire-daf.com/nglstate/5700142141276160'"
      ]
     },
     "execution_count": 16,
     "metadata": {},
     "output_type": "execute_result"
    }
   ],
   "source": [
    "fafbseg.flywire.encode_url(segments=counts[counts >= 5].index.values, open_browser=True)"
   ]
  },
  {
   "cell_type": "raw",
   "metadata": {
    "raw_mimetype": "text/restructuredtext"
   },
   "source": [
    "If you open above URL, you will find that most of the collected flywire segments actually belong to this neuron and should be merged into a single neuron."
   ]
  }
 ],
 "metadata": {
  "celltoolbar": "Raw Cell Format",
  "kernelspec": {
   "display_name": "Python 3",
   "language": "python",
   "name": "python3"
  },
  "language_info": {
   "codemirror_mode": {
    "name": "ipython",
    "version": 3
   },
   "file_extension": ".py",
   "mimetype": "text/x-python",
   "name": "python",
   "nbconvert_exporter": "python",
   "pygments_lexer": "ipython3",
   "version": "3.7.5"
  }
 },
 "nbformat": 4,
 "nbformat_minor": 2
}
