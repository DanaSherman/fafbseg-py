{
 "cells": [
  {
   "cell_type": "raw",
   "metadata": {
    "raw_mimetype": "text/restructuredtext"
   },
   "source": [
    ".. _flywire_segments:\n",
    "\n",
    "A primer on the FlyWire segmentation\n",
    "====================================\n",
    "\n",
    "In this tutorial you will learn all you need to know about the FlyWire segmentation.\n",
    "\n",
    "Before get started, a quick primer on terminology:\n",
    "\n",
    "1. In FlyWire, the ID of a neuron (e.g. ``720575940618780781``) is called the \"root ID\".\n",
    "2. Each root ID is a collection of \"supervoxels\". These supervoxels are the atomic, immutable units of the segmentation.\n",
    "3. Every time a neuron is edited (i.e. addition or removal of a supervoxel by merging or splitting) you create a new root ID.\n",
    "4. A \"materialization\" is a snapshot of the segmentation at a given point in time.\n",
    "\n",
    "If you work in the FlyWire production dataset, you will have to deal with the\n",
    "fact that root IDs are constantly changing as people keep improving the\n",
    "segmentation through proofreading. If you are working with the public release\n",
    "datasets, you will likely stick to root IDs that match one of the available\n",
    "materialization versions. Please find more detailed explanations below.\n",
    "\n",
    "FlyWire datasets\n",
    "----------------\n",
    "\n",
    "FlyWire actually has three different datasets/versions:\n",
    "\n",
    "1. The \"Public release\" contains static snapshots of the segmentation which\n",
    "   correspond to specific materialization version (see below for an explanation\n",
    "   of materializations). For example, the first ever public release was\n",
    "   materialization ``630``. Anyone has access to this dataset after signing up\n",
    "   through the FlyWire website.\n",
    "2. The \"Production\" dataset is where people do the actual proofreading/annotation.\n",
    "   As such it is ahead of the publicly released snapshots. To get access to the\n",
    "   production dataset you have to be approved by one of the community managers.\n",
    "3. Last but not least, \"Sandbox\" is a training ground that has seen minimal\n",
    "   proofreading (i.e. is close to the bsae segmentation). Anyone has access to\n",
    "   this dataset after signing up.\n",
    "\n",
    "Most functions in ``fafbseg.flywire`` accept a ``dataset`` parameter. As of\n",
    "``fafbseg`` version ``3.0.0`` the default dataset is the public one.\n",
    "\n",
    ".. code-block:: python\n",
    "\n",
    "  >>> from fafbseg import flywire\n",
    "  >>> # Defaults to public dataset\n",
    "  >>> flywire.supervoxels_to_roots(79801523353597754)\n",
    "  array([720575940621675174])\n",
    "  >>> # Specifically query the production dataset\n",
    "  >>> flywire.supervoxels_to_roots(79801523353597754, dataset='production')\n",
    "  array([720575940631274967])\n",
    "\n",
    "You can change this default by running this at the beginning of each session:\n",
    "\n",
    ".. code-block:: python\n",
    "\n",
    "  >>> from fafbseg import flywire\n",
    "  >>> flywire.set_default_dataset('production')\n",
    "\n",
    "See the docstring for :func:`~fafbseg.flywire.set_default_dataset` for details.\n",
    "\n",
    "Alternatively, you can also set an ``FLYWIRE_DEFAULT_DATASET`` environment\n",
    "variable *before* starting the Python session.\n",
    "\n",
    ".. code-block:: bash\n",
    "\n",
    "  $ export FLYWIRE_DEFAULT_DATASET=\"public\"\n",
    "  $ python\n",
    "\n",
    "Environment variables can be set permanently too. The details of that depend\n",
    "on your operating system and on which terminal (e.g. bash or zsh) you are using.\n",
    "A quick Google should tell you how it works.\n",
    "\n",
    "FlyWire root IDs - the details\n",
    "------------------------------\n",
    "\n",
    "Under the hood FlyWire is using chunkedgraph, an octree-like structure, to manage\n",
    "the segmentation. In brief: \"supervoxels\" are the atomic unit of the\n",
    "segmentation which are grouped into \"root IDs\". Or conversely: each root ID is a\n",
    "collection of supervoxels. Any edit to the segmentation is effectively\n",
    "just the addition or subtraction of supervoxels to that collection.\n",
    "\n",
    "Like supervoxels, root IDs are immutable though. So whenever edits are made\n",
    "new root IDs are generated which then represent the post-edit agglomeration of\n",
    "supervoxels. For example, splitting a neuron will generate two new root IDs\n",
    "and invalidate its current root ID. Merging two neurons, on the other hand, will\n",
    "invalidate the two old root IDs and generate one new root ID representing the\n",
    "combination of their supervoxels.\n",
    "\n",
    "Importantly, \"outdated\" root IDs are not deleted and you can still pull up e.g.\n",
    "their meshes in the FlyWire neuroglancer. This is super convenient but it comes\n",
    "with a caveat: you can find yourself with a list of root IDs that never\n",
    "co-existed which will be problematic when querying associated meta data (see\n",
    "paragraph below).\n",
    "\n",
    "Here are a couple ``fabseg`` functions that will help you tracking root IDs:\n",
    "\n",
    ".. autosummary::\n",
    "    :toctree: generated/\n",
    "\n",
    "    fafbseg.flywire.locs_to_segments\n",
    "    fafbseg.flywire.locs_to_supervoxels\n",
    "    fafbseg.flywire.supervoxels_to_roots\n",
    "    fafbseg.flywire.is_latest_root\n",
    "    fafbseg.flywire.update_ids\n",
    "    fafbseg.flywire.find_common_time\n",
    "    fafbseg.flywire.find_mat_version\n",
    "\n",
    "Materializations and the CAVE\n",
    "-----------------------------\n",
    "\n",
    "As established above, root IDs can change over time. So how do we maintain the\n",
    "link between a neuron and its meta data (e.g. its annotations, synapses, etc.)\n",
    "as it evolves? Principally this is done by associating each annotation with an\n",
    "x/y/z coordinate. That coordinate in turn maps to a supervoxel and we can then ask\n",
    "which root ID it currently belongs to - or belonged to if we want to go back in time.\n",
    "\n",
    "This kind of location to root ID look-up becomes rather expensive when working\n",
    "with large tables: the (filtered) synapse table, for example, has 130M rows each\n",
    "with a pre- and a postsynaptic x/y/z coordinate that needs to be mapped to a\n",
    "root ID.\n",
    "\n",
    "Fortunately, all of this is done for you by CAVE, the *c*onnectome *a*nnotation\n",
    "*v*ersioning *e*ngine. The gist is this: (almost) every night CAVE looks up\n",
    "the current root IDs for the synaptic connections, the community annotations and\n",
    "the various other tables it stores. These snapshots are called \"materializations\".\n",
    "Note that the public dataset only contains a limited set of these materializations.\n",
    "\n",
    "If we make sure that our root IDs were \"alive\" at one of the available\n",
    "materialization versions, we can query those tables with very little overhead on\n",
    "our end. Things get tricky if:\n",
    "\n",
    "- root IDs are more recent than the latest materialization\n",
    "- root IDs only existed briefly *in between* materializations\n",
    "- root IDs never co-existed at any of the materializations\n",
    "\n",
    "``fafbseg`` tries to abstract away a lot of the complications - in fact the\n",
    "relevant functions such as :func:`~fafbseg.flywire.get_synapses` accept a\n",
    "``materialization`` parameter that defaults to \"auto\" which will try to find\n",
    "a matching materialization version and complain if that isn't possible.\n",
    "\n",
    "In practice, the safe bet is to pick a materialization to work with and stick\n",
    "with it for your analyses. If you are working with the public release data, this\n",
    "isn't much of a problem since you have only very few versions and no \"live\" data\n",
    "to work with anyway. Use :func:`~fafbseg.flywire.get_materialization_versions` to\n",
    "get a list of available versions.\n",
    "\n",
    "Let's explore this a bit:"
   ]
  },
  {
   "cell_type": "code",
   "execution_count": 1,
   "metadata": {},
   "outputs": [
    {
     "name": "stdout",
     "output_type": "stream",
     "text": [
      "Default dataset set to \"public\".\n"
     ]
    }
   ],
   "source": [
    ">>> # Import the flywire module\n",
    ">>> from fafbseg import flywire\n",
    "\n",
    ">>> # We will use the public dataset for this tutorial\n",
    ">>> flywire.set_default_dataset(\"public\")"
   ]
  },
  {
   "cell_type": "code",
   "execution_count": 5,
   "metadata": {},
   "outputs": [
    {
     "data": {
      "text/html": [
       "<div>\n",
       "<style scoped>\n",
       "    .dataframe tbody tr th:only-of-type {\n",
       "        vertical-align: middle;\n",
       "    }\n",
       "\n",
       "    .dataframe tbody tr th {\n",
       "        vertical-align: top;\n",
       "    }\n",
       "\n",
       "    .dataframe thead th {\n",
       "        text-align: right;\n",
       "    }\n",
       "</style>\n",
       "<table border=\"1\" class=\"dataframe\">\n",
       "  <thead>\n",
       "    <tr style=\"text-align: right;\">\n",
       "      <th></th>\n",
       "      <th>time_stamp</th>\n",
       "      <th>expires_on</th>\n",
       "      <th>is_merged</th>\n",
       "      <th>datastack</th>\n",
       "      <th>version</th>\n",
       "      <th>valid</th>\n",
       "      <th>status</th>\n",
       "      <th>id</th>\n",
       "    </tr>\n",
       "  </thead>\n",
       "  <tbody>\n",
       "    <tr>\n",
       "      <th>0</th>\n",
       "      <td>2023-03-21 08:10:00</td>\n",
       "      <td>2121-11-10 07:10:00</td>\n",
       "      <td>True</td>\n",
       "      <td>flywire_fafb_public</td>\n",
       "      <td>630</td>\n",
       "      <td>True</td>\n",
       "      <td>AVAILABLE</td>\n",
       "      <td>718</td>\n",
       "    </tr>\n",
       "  </tbody>\n",
       "</table>\n",
       "</div>"
      ],
      "text/plain": [
       "           time_stamp          expires_on  is_merged            datastack  \\\n",
       "0 2023-03-21 08:10:00 2121-11-10 07:10:00       True  flywire_fafb_public   \n",
       "\n",
       "   version  valid     status   id  \n",
       "0      630   True  AVAILABLE  718  "
      ]
     },
     "execution_count": 5,
     "metadata": {},
     "output_type": "execute_result"
    }
   ],
   "source": [
    ">>> # Check which materilizations are available\n",
    ">>> flywire.get_materialization_versions()"
   ]
  },
  {
   "cell_type": "raw",
   "metadata": {},
   "source": [
    "As you can see, at the time of writing there is only a single materialization\n",
    "available for the public release dataset: ``630``.\n",
    "\n",
    "This also means that all queries automatically go against that materialization:"
   ]
  },
  {
   "cell_type": "code",
   "execution_count": 22,
   "metadata": {},
   "outputs": [
    {
     "data": {
      "text/plain": [
       "array([720575940631680813])"
      ]
     },
     "execution_count": 22,
     "metadata": {},
     "output_type": "execute_result"
    }
   ],
   "source": [
    ">>> # Fetch the root IDs at given x/y/z coordinate(s)\n",
    ">>> roots = flywire.locs_to_segments([[75350, 60162, 3162]])\n",
    ">>> roots"
   ]
  },
  {
   "cell_type": "code",
   "execution_count": 23,
   "metadata": {},
   "outputs": [
    {
     "data": {
      "text/plain": [
       "array([720575940631680813])"
      ]
     },
     "execution_count": 23,
     "metadata": {},
     "output_type": "execute_result"
    }
   ],
   "source": [
    ">>> # We can also specify a timstamp matching the materialization version\n",
    ">>> # which will be useful later when more versions are available\n",
    ">>> roots = flywire.locs_to_segments([[75350, 60162, 3162]], timestamp='mat_630')\n",
    ">>> roots"
   ]
  },
  {
   "cell_type": "raw",
   "metadata": {},
   "source": [
    "What if you're given a list of root IDs and want to check if they are still\n",
    "up-to-date - or match a given materialization version?"
   ]
  },
  {
   "cell_type": "code",
   "execution_count": 24,
   "metadata": {},
   "outputs": [
    {
     "data": {
      "text/plain": [
       "array([ True, False])"
      ]
     },
     "execution_count": 24,
     "metadata": {},
     "output_type": "execute_result"
    }
   ],
   "source": [
    ">>> # Check if root IDs are outdated (i.e. have more recent edits)\n",
    ">>> flywire.is_latest_root([720575940625431866, 720575940621835755])"
   ]
  },
  {
   "cell_type": "code",
   "execution_count": 25,
   "metadata": {},
   "outputs": [
    {
     "data": {
      "text/plain": [
       "array([ True, False])"
      ]
     },
     "execution_count": 25,
     "metadata": {},
     "output_type": "execute_result"
    }
   ],
   "source": [
    ">>> # Likewise, we can ask if they were current at a given materialization\n",
    ">>> flywire.is_latest_root([720575940625431866, 720575940621835755],\n",
    "...                        timestamp='mat_630')"
   ]
  },
  {
   "cell_type": "raw",
   "metadata": {},
   "source": [
    "Is there a way to map root IDs back and forth? There is! We can take a root\n",
    "ID, find its constituent supervoxels and then ask which root IDs they belonged\n",
    "to at a given point in time. This is what :func:`~fafbseg.flywire.update_ids`\n",
    "does:"
   ]
  },
  {
   "cell_type": "code",
   "execution_count": 26,
   "metadata": {},
   "outputs": [
    {
     "data": {
      "application/vnd.jupyter.widget-view+json": {
       "model_id": "c7ad514ba99b4451aea56331045c92df",
       "version_major": 2,
       "version_minor": 0
      },
      "text/plain": [
       "Updating:   0%|          | 0/3 [00:00<?, ?it/s]"
      ]
     },
     "metadata": {},
     "output_type": "display_data"
    },
    {
     "data": {
      "text/html": [
       "<div>\n",
       "<style scoped>\n",
       "    .dataframe tbody tr th:only-of-type {\n",
       "        vertical-align: middle;\n",
       "    }\n",
       "\n",
       "    .dataframe tbody tr th {\n",
       "        vertical-align: top;\n",
       "    }\n",
       "\n",
       "    .dataframe thead th {\n",
       "        text-align: right;\n",
       "    }\n",
       "</style>\n",
       "<table border=\"1\" class=\"dataframe\">\n",
       "  <thead>\n",
       "    <tr style=\"text-align: right;\">\n",
       "      <th></th>\n",
       "      <th>old_id</th>\n",
       "      <th>new_id</th>\n",
       "      <th>confidence</th>\n",
       "      <th>changed</th>\n",
       "    </tr>\n",
       "  </thead>\n",
       "  <tbody>\n",
       "    <tr>\n",
       "      <th>0</th>\n",
       "      <td>720575940621835755</td>\n",
       "      <td>720575940636873791</td>\n",
       "      <td>0.99</td>\n",
       "      <td>True</td>\n",
       "    </tr>\n",
       "    <tr>\n",
       "      <th>1</th>\n",
       "      <td>720575940608788840</td>\n",
       "      <td>720575940636873791</td>\n",
       "      <td>1.00</td>\n",
       "      <td>True</td>\n",
       "    </tr>\n",
       "    <tr>\n",
       "      <th>2</th>\n",
       "      <td>720575940628913983</td>\n",
       "      <td>720575940636873791</td>\n",
       "      <td>0.94</td>\n",
       "      <td>True</td>\n",
       "    </tr>\n",
       "  </tbody>\n",
       "</table>\n",
       "</div>"
      ],
      "text/plain": [
       "               old_id              new_id  confidence  changed\n",
       "0  720575940621835755  720575940636873791        0.99     True\n",
       "1  720575940608788840  720575940636873791        1.00     True\n",
       "2  720575940628913983  720575940636873791        0.94     True"
      ]
     },
     "execution_count": 26,
     "metadata": {},
     "output_type": "execute_result"
    }
   ],
   "source": [
    ">>> updated = flywire.update_ids(\n",
    "...     [720575940621835755, 720575940608788840, 720575940628913983]\n",
    "... )\n",
    ">>> updated"
   ]
  },
  {
   "cell_type": "raw",
   "metadata": {},
   "source": [
    "In the above example all old IDs are \"ancestors\" to the same current root ID.\n",
    "Note that by default, :func:`~fafbseg.flywire.update_ids` will map to the\n",
    "most current version but it also accepts a ``timestamp`` parameter which lets\n",
    "us map to a specific point in time."
   ]
  },
  {
   "cell_type": "raw",
   "metadata": {},
   "source": [
    "Want to track how a neuron was edited over time? Easy:"
   ]
  },
  {
   "cell_type": "code",
   "execution_count": 27,
   "metadata": {
    "raw_mimetype": "text/restructuredtext"
   },
   "outputs": [
    {
     "data": {
      "text/html": [
       "<div>\n",
       "<style scoped>\n",
       "    .dataframe tbody tr th:only-of-type {\n",
       "        vertical-align: middle;\n",
       "    }\n",
       "\n",
       "    .dataframe tbody tr th {\n",
       "        vertical-align: top;\n",
       "    }\n",
       "\n",
       "    .dataframe thead th {\n",
       "        text-align: right;\n",
       "    }\n",
       "</style>\n",
       "<table border=\"1\" class=\"dataframe\">\n",
       "  <thead>\n",
       "    <tr style=\"text-align: right;\">\n",
       "      <th></th>\n",
       "      <th>after_root_ids</th>\n",
       "      <th>before_root_ids</th>\n",
       "      <th>is_merge</th>\n",
       "      <th>operation_id</th>\n",
       "      <th>segment</th>\n",
       "      <th>timestamp</th>\n",
       "      <th>user_affiliation</th>\n",
       "      <th>user_id</th>\n",
       "      <th>user_name</th>\n",
       "    </tr>\n",
       "  </thead>\n",
       "  <tbody>\n",
       "    <tr>\n",
       "      <th>2</th>\n",
       "      <td>[720575940625153661]</td>\n",
       "      <td>[720575940613909190]</td>\n",
       "      <td>False</td>\n",
       "      <td>546853</td>\n",
       "      <td>720575940625431866</td>\n",
       "      <td>2021-08-19 09:10:18.090</td>\n",
       "      <td>Greg Jefferis Lab</td>\n",
       "      <td>957</td>\n",
       "      <td>Varun Sane</td>\n",
       "    </tr>\n",
       "    <tr>\n",
       "      <th>3</th>\n",
       "      <td>[720575940626449738]</td>\n",
       "      <td>[720575940617774213, 720575940625153661]</td>\n",
       "      <td>True</td>\n",
       "      <td>546854</td>\n",
       "      <td>720575940625431866</td>\n",
       "      <td>2021-08-19 09:10:36.280</td>\n",
       "      <td>Greg Jefferis Lab</td>\n",
       "      <td>957</td>\n",
       "      <td>Varun Sane</td>\n",
       "    </tr>\n",
       "    <tr>\n",
       "      <th>4</th>\n",
       "      <td>[720575940604045489]</td>\n",
       "      <td>[720575940618706267]</td>\n",
       "      <td>False</td>\n",
       "      <td>546855</td>\n",
       "      <td>720575940625431866</td>\n",
       "      <td>2021-08-19 09:11:20.009</td>\n",
       "      <td>Greg Jefferis Lab</td>\n",
       "      <td>957</td>\n",
       "      <td>Varun Sane</td>\n",
       "    </tr>\n",
       "    <tr>\n",
       "      <th>5</th>\n",
       "      <td>[720575940626907179]</td>\n",
       "      <td>[720575940604045489, 720575940626449738]</td>\n",
       "      <td>True</td>\n",
       "      <td>546856</td>\n",
       "      <td>720575940625431866</td>\n",
       "      <td>2021-08-19 09:11:34.230</td>\n",
       "      <td>Greg Jefferis Lab</td>\n",
       "      <td>957</td>\n",
       "      <td>Varun Sane</td>\n",
       "    </tr>\n",
       "    <tr>\n",
       "      <th>6</th>\n",
       "      <td>[720575940604045745]</td>\n",
       "      <td>[720575940626907179, 720575940626995629]</td>\n",
       "      <td>True</td>\n",
       "      <td>546857</td>\n",
       "      <td>720575940625431866</td>\n",
       "      <td>2021-08-19 09:12:06.042</td>\n",
       "      <td>Greg Jefferis Lab</td>\n",
       "      <td>957</td>\n",
       "      <td>Varun Sane</td>\n",
       "    </tr>\n",
       "  </tbody>\n",
       "</table>\n",
       "</div>"
      ],
      "text/plain": [
       "         after_root_ids                           before_root_ids  is_merge  \\\n",
       "2  [720575940625153661]                      [720575940613909190]     False   \n",
       "3  [720575940626449738]  [720575940617774213, 720575940625153661]      True   \n",
       "4  [720575940604045489]                      [720575940618706267]     False   \n",
       "5  [720575940626907179]  [720575940604045489, 720575940626449738]      True   \n",
       "6  [720575940604045745]  [720575940626907179, 720575940626995629]      True   \n",
       "\n",
       "   operation_id             segment               timestamp  \\\n",
       "2        546853  720575940625431866 2021-08-19 09:10:18.090   \n",
       "3        546854  720575940625431866 2021-08-19 09:10:36.280   \n",
       "4        546855  720575940625431866 2021-08-19 09:11:20.009   \n",
       "5        546856  720575940625431866 2021-08-19 09:11:34.230   \n",
       "6        546857  720575940625431866 2021-08-19 09:12:06.042   \n",
       "\n",
       "    user_affiliation user_id   user_name  \n",
       "2  Greg Jefferis Lab     957  Varun Sane  \n",
       "3  Greg Jefferis Lab     957  Varun Sane  \n",
       "4  Greg Jefferis Lab     957  Varun Sane  \n",
       "5  Greg Jefferis Lab     957  Varun Sane  \n",
       "6  Greg Jefferis Lab     957  Varun Sane  "
      ]
     },
     "execution_count": 27,
     "metadata": {},
     "output_type": "execute_result"
    }
   ],
   "source": [
    ">>> edits = flywire.get_edit_history(720575940625431866)\n",
    ">>> edits.head()"
   ]
  },
  {
   "cell_type": "raw",
   "metadata": {},
   "source": [
    "Please see the :ref:`API documentation<api>` for a full list of segmentation-related\n",
    "functions."
   ]
  }
 ],
 "metadata": {
  "celltoolbar": "Raw Cell Format",
  "kernelspec": {
   "display_name": "Python 3 (ipykernel)",
   "language": "python",
   "name": "python3"
  },
  "language_info": {
   "codemirror_mode": {
    "name": "ipython",
    "version": 3
   },
   "file_extension": ".py",
   "mimetype": "text/x-python",
   "name": "python",
   "nbconvert_exporter": "python",
   "pygments_lexer": "ipython3",
   "version": "3.9.9"
  },
  "widgets": {
   "application/vnd.jupyter.widget-state+json": {
    "state": {
     "08bf97cd7cfe474789b2d561addd484c": {
      "model_module": "@jupyter-widgets/controls",
      "model_module_version": "1.5.0",
      "model_name": "FloatProgressModel",
      "state": {
       "layout": "IPY_MODEL_a59704054fbe4a4ab5b83c6d5ca27928",
       "max": 3,
       "style": "IPY_MODEL_1d9164ec3865433b949b2d2fe9774902",
       "value": 3
      }
     },
     "0e9b11a877624692acfa5a6df85979c4": {
      "model_module": "@jupyter-widgets/controls",
      "model_module_version": "1.5.0",
      "model_name": "DescriptionStyleModel",
      "state": {
       "description_width": ""
      }
     },
     "152fa4799e504f79bd0094085cf08537": {
      "model_module": "@jupyter-widgets/controls",
      "model_module_version": "1.5.0",
      "model_name": "DescriptionStyleModel",
      "state": {
       "description_width": ""
      }
     },
     "1d9164ec3865433b949b2d2fe9774902": {
      "model_module": "@jupyter-widgets/controls",
      "model_module_version": "1.5.0",
      "model_name": "ProgressStyleModel",
      "state": {
       "description_width": ""
      }
     },
     "25f8b0b85fa347b881d1c2fa0126f457": {
      "model_module": "@jupyter-widgets/controls",
      "model_module_version": "1.5.0",
      "model_name": "DescriptionStyleModel",
      "state": {
       "description_width": ""
      }
     },
     "2b2157f8938f4b64879c69e3a6974eb3": {
      "model_module": "@jupyter-widgets/controls",
      "model_module_version": "1.5.0",
      "model_name": "HTMLModel",
      "state": {
       "layout": "IPY_MODEL_96496249af064c1cb45516c3512d20c7",
       "style": "IPY_MODEL_152fa4799e504f79bd0094085cf08537",
       "value": " 2/3 [00:02&lt;00:01,  1.47s/it]"
      }
     },
     "2c61e9bf1b1e4fe6aa09edc127eba8d0": {
      "model_module": "@jupyter-widgets/controls",
      "model_module_version": "1.5.0",
      "model_name": "ProgressStyleModel",
      "state": {
       "description_width": ""
      }
     },
     "36c0d20b01f94ece9ab90ca38fa2e898": {
      "model_module": "@jupyter-widgets/controls",
      "model_module_version": "1.5.0",
      "model_name": "HTMLModel",
      "state": {
       "layout": "IPY_MODEL_7e140fc924e2462fb4fc1ccd851b0022",
       "style": "IPY_MODEL_6154d580cf084b9f962bc6ad3c41a187",
       "value": "Fetching L2 info:  67%"
      }
     },
     "392185f60dec4580a0084850ee12cf38": {
      "model_module": "@jupyter-widgets/base",
      "model_module_version": "1.2.0",
      "model_name": "LayoutModel",
      "state": {}
     },
     "3d7cd687d1e9465996515d6a7a30502d": {
      "model_module": "@jupyter-widgets/controls",
      "model_module_version": "1.5.0",
      "model_name": "HTMLModel",
      "state": {
       "layout": "IPY_MODEL_65c6a09cf6fa4299b739e28c5fc2e9d4",
       "style": "IPY_MODEL_25f8b0b85fa347b881d1c2fa0126f457",
       "value": "Fetching L2 info:  67%"
      }
     },
     "4184effa39124bd9bfe9c0315e73881d": {
      "model_module": "@jupyter-widgets/controls",
      "model_module_version": "1.5.0",
      "model_name": "ProgressStyleModel",
      "state": {
       "description_width": ""
      }
     },
     "4f810236a5c3446c8193d7e3d56e1759": {
      "model_module": "@jupyter-widgets/controls",
      "model_module_version": "1.5.0",
      "model_name": "HTMLModel",
      "state": {
       "layout": "IPY_MODEL_aedd6422d25e4a27bc5eebc12032aa46",
       "style": "IPY_MODEL_0e9b11a877624692acfa5a6df85979c4",
       "value": " 3/3 [00:06&lt;00:00,  1.76s/it]"
      }
     },
     "6154d580cf084b9f962bc6ad3c41a187": {
      "model_module": "@jupyter-widgets/controls",
      "model_module_version": "1.5.0",
      "model_name": "DescriptionStyleModel",
      "state": {
       "description_width": ""
      }
     },
     "62ec0e2864de4c598d389147ab10ffec": {
      "model_module": "@jupyter-widgets/controls",
      "model_module_version": "1.5.0",
      "model_name": "DescriptionStyleModel",
      "state": {
       "description_width": ""
      }
     },
     "65c6a09cf6fa4299b739e28c5fc2e9d4": {
      "model_module": "@jupyter-widgets/base",
      "model_module_version": "1.2.0",
      "model_name": "LayoutModel",
      "state": {}
     },
     "671835f669e94d79b8007360b77cded3": {
      "model_module": "@jupyter-widgets/base",
      "model_module_version": "1.2.0",
      "model_name": "LayoutModel",
      "state": {}
     },
     "7e140fc924e2462fb4fc1ccd851b0022": {
      "model_module": "@jupyter-widgets/base",
      "model_module_version": "1.2.0",
      "model_name": "LayoutModel",
      "state": {}
     },
     "7fe0958005ac43e69f29d1ac3ed69ce2": {
      "model_module": "@jupyter-widgets/controls",
      "model_module_version": "1.5.0",
      "model_name": "DescriptionStyleModel",
      "state": {
       "description_width": ""
      }
     },
     "87c5bf270fb14d5ca4645fc56e8cee86": {
      "model_module": "@jupyter-widgets/controls",
      "model_module_version": "1.5.0",
      "model_name": "HTMLModel",
      "state": {
       "layout": "IPY_MODEL_da35cd98e52544df9f0209629211143b",
       "style": "IPY_MODEL_62ec0e2864de4c598d389147ab10ffec",
       "value": "Updating: 100%"
      }
     },
     "8a88ebd3668c4a55bbc06c83c25f9d3b": {
      "model_module": "@jupyter-widgets/controls",
      "model_module_version": "1.5.0",
      "model_name": "FloatProgressModel",
      "state": {
       "layout": "IPY_MODEL_f7fa5cc1b4574dec82d8c0699e708f8c",
       "max": 3,
       "style": "IPY_MODEL_2c61e9bf1b1e4fe6aa09edc127eba8d0",
       "value": 3
      }
     },
     "96496249af064c1cb45516c3512d20c7": {
      "model_module": "@jupyter-widgets/base",
      "model_module_version": "1.2.0",
      "model_name": "LayoutModel",
      "state": {}
     },
     "a59704054fbe4a4ab5b83c6d5ca27928": {
      "model_module": "@jupyter-widgets/base",
      "model_module_version": "1.2.0",
      "model_name": "LayoutModel",
      "state": {}
     },
     "aea40ae6995d4babbcf686bea789bce4": {
      "model_module": "@jupyter-widgets/base",
      "model_module_version": "1.2.0",
      "model_name": "LayoutModel",
      "state": {}
     },
     "aedd6422d25e4a27bc5eebc12032aa46": {
      "model_module": "@jupyter-widgets/base",
      "model_module_version": "1.2.0",
      "model_name": "LayoutModel",
      "state": {}
     },
     "b2b35922c6fd4012bef0acde72efc2bb": {
      "model_module": "@jupyter-widgets/controls",
      "model_module_version": "1.5.0",
      "model_name": "HTMLModel",
      "state": {
       "layout": "IPY_MODEL_d35bee3c96a94ca19cda15b6603644a1",
       "style": "IPY_MODEL_7fe0958005ac43e69f29d1ac3ed69ce2",
       "value": " 2/3 [00:03&lt;00:01,  1.76s/it]"
      }
     },
     "d35bee3c96a94ca19cda15b6603644a1": {
      "model_module": "@jupyter-widgets/base",
      "model_module_version": "1.2.0",
      "model_name": "LayoutModel",
      "state": {}
     },
     "da35cd98e52544df9f0209629211143b": {
      "model_module": "@jupyter-widgets/base",
      "model_module_version": "1.2.0",
      "model_name": "LayoutModel",
      "state": {}
     },
     "e3a7fb2039bb48898825d1e4acc0716f": {
      "model_module": "@jupyter-widgets/controls",
      "model_module_version": "1.5.0",
      "model_name": "FloatProgressModel",
      "state": {
       "layout": "IPY_MODEL_e438f78f3ab946e8a91966cccf16e9e1",
       "max": 3,
       "style": "IPY_MODEL_4184effa39124bd9bfe9c0315e73881d",
       "value": 3
      }
     },
     "e438f78f3ab946e8a91966cccf16e9e1": {
      "model_module": "@jupyter-widgets/base",
      "model_module_version": "1.2.0",
      "model_name": "LayoutModel",
      "state": {}
     },
     "f7fa5cc1b4574dec82d8c0699e708f8c": {
      "model_module": "@jupyter-widgets/base",
      "model_module_version": "1.2.0",
      "model_name": "LayoutModel",
      "state": {}
     }
    },
    "version_major": 2,
    "version_minor": 0
   }
  }
 },
 "nbformat": 4,
 "nbformat_minor": 4
}
