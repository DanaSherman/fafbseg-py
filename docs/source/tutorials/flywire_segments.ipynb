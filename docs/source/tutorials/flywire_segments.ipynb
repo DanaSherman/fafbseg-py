{
 "cells": [
  {
   "cell_type": "raw",
   "metadata": {
    "raw_mimetype": "text/restructuredtext"
   },
   "source": [
    ".. _flywire_segments:\n",
    "\n",
    "Querying the segmentation\n",
    "=========================\n",
    "For certain tasks it can be useful to query the FlyWire segmentation directly.\n",
    "Before we demonstrate this, a quick primer on terminology:\n",
    "\n",
    "1. In FlyWire, the ID of a neuron (e.g. ``720575940618780781``) is called the \"root ID\".\n",
    "2. Each root ID is a collection of \"supervoxels\". These supervoxels are the atomic, immutable units of the segmentation.\n",
    "3. Every time you edit a neuron (i.e. add or remove supervoxel by merging or splitting) you create a new root ID.\n",
    "\n",
    "Because of this dichotomy of IDs, you have to be explicit about whether you want\n",
    "root or supervoxel IDs.\n",
    "\n",
    "Let's illustrate by running some examples:"
   ]
  },
  {
   "cell_type": "code",
   "execution_count": 2,
   "metadata": {},
   "outputs": [
    {
     "name": "stdout",
     "output_type": "stream",
     "text": [
      "Default dataset set to \"public\"\n"
     ]
    }
   ],
   "source": [
    ">>> from fafbseg import flywire\n",
    "\n",
    ">>> # We will use the public dataset for this tutorial\n",
    ">>> flywire.set_default_dataset(\"public\")"
   ]
  },
  {
   "cell_type": "code",
   "execution_count": 4,
   "metadata": {},
   "outputs": [
    {
     "data": {
      "text/plain": [
       "array([720575940629790846])"
      ]
     },
     "execution_count": 4,
     "metadata": {},
     "output_type": "execute_result"
    }
   ],
   "source": [
    ">>> # Fetch the root IDs at given x/y/z coordinate(s)\n",
    ">>> roots = flywire.locs_to_segments([[95764, 60326, 4855]])\n",
    ">>> roots"
   ]
  },
  {
   "cell_type": "raw",
   "metadata": {},
   "source": [
    "Get the supervoxels making up a given root:"
   ]
  },
  {
   "cell_type": "code",
   "execution_count": 5,
   "metadata": {},
   "outputs": [
    {
     "data": {
      "text/plain": [
       "{720575940625431866: array([76422587017867444, 76422587017876926, 76422587017875950, ...,\n",
       "        79308667131852018, 79308667131870469, 79308667131858012],\n",
       "       dtype=uint64)}"
      ]
     },
     "execution_count": 5,
     "metadata": {},
     "output_type": "execute_result"
    }
   ],
   "source": [
    ">>> flywire.roots_to_supervoxels(720575940625431866)"
   ]
  },
  {
   "cell_type": "raw",
   "metadata": {},
   "source": [
    "Check if root IDs are outdated (i.e. have more recent edits):"
   ]
  },
  {
   "cell_type": "code",
   "execution_count": 6,
   "metadata": {},
   "outputs": [
    {
     "data": {
      "text/plain": [
       "array([ True, False])"
      ]
     },
     "execution_count": 6,
     "metadata": {},
     "output_type": "execute_result"
    }
   ],
   "source": [
    ">>> flywire.is_latest_root([720575940625431866, 720575940621835755])"
   ]
  },
  {
   "cell_type": "raw",
   "metadata": {},
   "source": [
    "Update outdated root IDs:"
   ]
  },
  {
   "cell_type": "code",
   "execution_count": 7,
   "metadata": {},
   "outputs": [
    {
     "data": {
      "application/vnd.jupyter.widget-view+json": {
       "model_id": "c73ab369a05f4d7b9b4d60d5ab1f2d66",
       "version_major": 2,
       "version_minor": 0
      },
      "text/plain": [
       "Updating:   0%|          | 0/3 [00:00<?, ?it/s]"
      ]
     },
     "metadata": {},
     "output_type": "display_data"
    },
    {
     "data": {
      "text/html": [
       "<div>\n",
       "<style scoped>\n",
       "    .dataframe tbody tr th:only-of-type {\n",
       "        vertical-align: middle;\n",
       "    }\n",
       "\n",
       "    .dataframe tbody tr th {\n",
       "        vertical-align: top;\n",
       "    }\n",
       "\n",
       "    .dataframe thead th {\n",
       "        text-align: right;\n",
       "    }\n",
       "</style>\n",
       "<table border=\"1\" class=\"dataframe\">\n",
       "  <thead>\n",
       "    <tr style=\"text-align: right;\">\n",
       "      <th></th>\n",
       "      <th>old_id</th>\n",
       "      <th>new_id</th>\n",
       "      <th>confidence</th>\n",
       "      <th>changed</th>\n",
       "    </tr>\n",
       "  </thead>\n",
       "  <tbody>\n",
       "    <tr>\n",
       "      <th>0</th>\n",
       "      <td>720575940621835755</td>\n",
       "      <td>720575940636873791</td>\n",
       "      <td>0.99</td>\n",
       "      <td>True</td>\n",
       "    </tr>\n",
       "    <tr>\n",
       "      <th>1</th>\n",
       "      <td>720575940608788840</td>\n",
       "      <td>720575940636873791</td>\n",
       "      <td>1.00</td>\n",
       "      <td>True</td>\n",
       "    </tr>\n",
       "    <tr>\n",
       "      <th>2</th>\n",
       "      <td>720575940628913983</td>\n",
       "      <td>720575940636873791</td>\n",
       "      <td>0.94</td>\n",
       "      <td>True</td>\n",
       "    </tr>\n",
       "  </tbody>\n",
       "</table>\n",
       "</div>"
      ],
      "text/plain": [
       "               old_id              new_id  confidence  changed\n",
       "0  720575940621835755  720575940636873791        0.99     True\n",
       "1  720575940608788840  720575940636873791        1.00     True\n",
       "2  720575940628913983  720575940636873791        0.94     True"
      ]
     },
     "execution_count": 7,
     "metadata": {},
     "output_type": "execute_result"
    }
   ],
   "source": [
    ">>> updated = flywire.update_ids(\n",
    "...     [720575940621835755, 720575940608788840, 720575940628913983]\n",
    "... )\n",
    ">>> updated"
   ]
  },
  {
   "cell_type": "raw",
   "metadata": {},
   "source": [
    "In above example all old IDs are \"ancestors\" to the same current root ID."
   ]
  },
  {
   "cell_type": "raw",
   "metadata": {},
   "source": [
    "Fetch edits made to a neuron:"
   ]
  },
  {
   "cell_type": "code",
   "execution_count": 8,
   "metadata": {
    "raw_mimetype": "text/restructuredtext"
   },
   "outputs": [
    {
     "data": {
      "text/html": [
       "<div>\n",
       "<style scoped>\n",
       "    .dataframe tbody tr th:only-of-type {\n",
       "        vertical-align: middle;\n",
       "    }\n",
       "\n",
       "    .dataframe tbody tr th {\n",
       "        vertical-align: top;\n",
       "    }\n",
       "\n",
       "    .dataframe thead th {\n",
       "        text-align: right;\n",
       "    }\n",
       "</style>\n",
       "<table border=\"1\" class=\"dataframe\">\n",
       "  <thead>\n",
       "    <tr style=\"text-align: right;\">\n",
       "      <th></th>\n",
       "      <th>after_root_ids</th>\n",
       "      <th>before_root_ids</th>\n",
       "      <th>is_merge</th>\n",
       "      <th>operation_id</th>\n",
       "      <th>segment</th>\n",
       "      <th>timestamp</th>\n",
       "      <th>user_affiliation</th>\n",
       "      <th>user_id</th>\n",
       "      <th>user_name</th>\n",
       "    </tr>\n",
       "  </thead>\n",
       "  <tbody>\n",
       "    <tr>\n",
       "      <th>2</th>\n",
       "      <td>[720575940625153661]</td>\n",
       "      <td>[720575940613909190]</td>\n",
       "      <td>False</td>\n",
       "      <td>546853</td>\n",
       "      <td>720575940625431866</td>\n",
       "      <td>2021-08-19 09:10:18.090</td>\n",
       "      <td>Greg Jefferis Lab</td>\n",
       "      <td>957</td>\n",
       "      <td>Varun Sane</td>\n",
       "    </tr>\n",
       "    <tr>\n",
       "      <th>3</th>\n",
       "      <td>[720575940626449738]</td>\n",
       "      <td>[720575940617774213, 720575940625153661]</td>\n",
       "      <td>True</td>\n",
       "      <td>546854</td>\n",
       "      <td>720575940625431866</td>\n",
       "      <td>2021-08-19 09:10:36.280</td>\n",
       "      <td>Greg Jefferis Lab</td>\n",
       "      <td>957</td>\n",
       "      <td>Varun Sane</td>\n",
       "    </tr>\n",
       "    <tr>\n",
       "      <th>4</th>\n",
       "      <td>[720575940604045489]</td>\n",
       "      <td>[720575940618706267]</td>\n",
       "      <td>False</td>\n",
       "      <td>546855</td>\n",
       "      <td>720575940625431866</td>\n",
       "      <td>2021-08-19 09:11:20.009</td>\n",
       "      <td>Greg Jefferis Lab</td>\n",
       "      <td>957</td>\n",
       "      <td>Varun Sane</td>\n",
       "    </tr>\n",
       "    <tr>\n",
       "      <th>5</th>\n",
       "      <td>[720575940626907179]</td>\n",
       "      <td>[720575940604045489, 720575940626449738]</td>\n",
       "      <td>True</td>\n",
       "      <td>546856</td>\n",
       "      <td>720575940625431866</td>\n",
       "      <td>2021-08-19 09:11:34.230</td>\n",
       "      <td>Greg Jefferis Lab</td>\n",
       "      <td>957</td>\n",
       "      <td>Varun Sane</td>\n",
       "    </tr>\n",
       "    <tr>\n",
       "      <th>6</th>\n",
       "      <td>[720575940604045745]</td>\n",
       "      <td>[720575940626907179, 720575940626995629]</td>\n",
       "      <td>True</td>\n",
       "      <td>546857</td>\n",
       "      <td>720575940625431866</td>\n",
       "      <td>2021-08-19 09:12:06.042</td>\n",
       "      <td>Greg Jefferis Lab</td>\n",
       "      <td>957</td>\n",
       "      <td>Varun Sane</td>\n",
       "    </tr>\n",
       "  </tbody>\n",
       "</table>\n",
       "</div>"
      ],
      "text/plain": [
       "         after_root_ids                           before_root_ids  is_merge  \\\n",
       "2  [720575940625153661]                      [720575940613909190]     False   \n",
       "3  [720575940626449738]  [720575940617774213, 720575940625153661]      True   \n",
       "4  [720575940604045489]                      [720575940618706267]     False   \n",
       "5  [720575940626907179]  [720575940604045489, 720575940626449738]      True   \n",
       "6  [720575940604045745]  [720575940626907179, 720575940626995629]      True   \n",
       "\n",
       "   operation_id             segment               timestamp  \\\n",
       "2        546853  720575940625431866 2021-08-19 09:10:18.090   \n",
       "3        546854  720575940625431866 2021-08-19 09:10:36.280   \n",
       "4        546855  720575940625431866 2021-08-19 09:11:20.009   \n",
       "5        546856  720575940625431866 2021-08-19 09:11:34.230   \n",
       "6        546857  720575940625431866 2021-08-19 09:12:06.042   \n",
       "\n",
       "    user_affiliation user_id   user_name  \n",
       "2  Greg Jefferis Lab     957  Varun Sane  \n",
       "3  Greg Jefferis Lab     957  Varun Sane  \n",
       "4  Greg Jefferis Lab     957  Varun Sane  \n",
       "5  Greg Jefferis Lab     957  Varun Sane  \n",
       "6  Greg Jefferis Lab     957  Varun Sane  "
      ]
     },
     "execution_count": 8,
     "metadata": {},
     "output_type": "execute_result"
    }
   ],
   "source": [
    ">>> edits = flywire.fetch_edit_history(720575940625431866)\n",
    ">>> edits.head()"
   ]
  },
  {
   "cell_type": "raw",
   "metadata": {},
   "source": [
    "Fetch basic info for a couple neurons using the L2 cache:"
   ]
  },
  {
   "cell_type": "code",
   "execution_count": 9,
   "metadata": {},
   "outputs": [
    {
     "data": {
      "application/vnd.jupyter.widget-view+json": {
       "model_id": "2cd27bf1451f46f39780c7740cfa32d0",
       "version_major": 2,
       "version_minor": 0
      },
      "text/plain": [
       "Fetching L2 info:   0%|          | 0/3 [00:00<?, ?it/s]"
      ]
     },
     "metadata": {},
     "output_type": "display_data"
    },
    {
     "data": {
      "text/html": [
       "<div>\n",
       "<style scoped>\n",
       "    .dataframe tbody tr th:only-of-type {\n",
       "        vertical-align: middle;\n",
       "    }\n",
       "\n",
       "    .dataframe tbody tr th {\n",
       "        vertical-align: top;\n",
       "    }\n",
       "\n",
       "    .dataframe thead th {\n",
       "        text-align: right;\n",
       "    }\n",
       "</style>\n",
       "<table border=\"1\" class=\"dataframe\">\n",
       "  <thead>\n",
       "    <tr style=\"text-align: right;\">\n",
       "      <th></th>\n",
       "      <th>root_id</th>\n",
       "      <th>l2_chunks</th>\n",
       "      <th>chunks_missing</th>\n",
       "      <th>area_um2</th>\n",
       "      <th>size_um3</th>\n",
       "      <th>length_um</th>\n",
       "      <th>bounds_nm</th>\n",
       "    </tr>\n",
       "  </thead>\n",
       "  <tbody>\n",
       "    <tr>\n",
       "      <th>0</th>\n",
       "      <td>720575940608788840</td>\n",
       "      <td>226</td>\n",
       "      <td>0</td>\n",
       "      <td>1533.782784</td>\n",
       "      <td>131.712870</td>\n",
       "      <td>36.578</td>\n",
       "      <td>[452688.0, 468864.0, 235440.0, 248784.0, 17680...</td>\n",
       "    </tr>\n",
       "    <tr>\n",
       "      <th>1</th>\n",
       "      <td>720575940621835755</td>\n",
       "      <td>1553</td>\n",
       "      <td>0</td>\n",
       "      <td>20170.998272</td>\n",
       "      <td>2315.315272</td>\n",
       "      <td>316.174</td>\n",
       "      <td>[327088.0, 496400.0, 121328.0, 250432.0, 16840...</td>\n",
       "    </tr>\n",
       "    <tr>\n",
       "      <th>2</th>\n",
       "      <td>720575940628913983</td>\n",
       "      <td>16</td>\n",
       "      <td>0</td>\n",
       "      <td>102.545536</td>\n",
       "      <td>9.756662</td>\n",
       "      <td>4.365</td>\n",
       "      <td>[337952.0, 345424.0, 157808.0, 163248.0, 16404...</td>\n",
       "    </tr>\n",
       "  </tbody>\n",
       "</table>\n",
       "</div>"
      ],
      "text/plain": [
       "              root_id  l2_chunks  chunks_missing      area_um2     size_um3  \\\n",
       "0  720575940608788840        226               0   1533.782784   131.712870   \n",
       "1  720575940621835755       1553               0  20170.998272  2315.315272   \n",
       "2  720575940628913983         16               0    102.545536     9.756662   \n",
       "\n",
       "   length_um                                          bounds_nm  \n",
       "0     36.578  [452688.0, 468864.0, 235440.0, 248784.0, 17680...  \n",
       "1    316.174  [327088.0, 496400.0, 121328.0, 250432.0, 16840...  \n",
       "2      4.365  [337952.0, 345424.0, 157808.0, 163248.0, 16404...  "
      ]
     },
     "execution_count": 9,
     "metadata": {},
     "output_type": "execute_result"
    }
   ],
   "source": [
    ">>> info = flywire.get_l2_info([720575940621835755, 720575940608788840, 720575940628913983])\n",
    ">>> info.head()"
   ]
  },
  {
   "cell_type": "raw",
   "metadata": {},
   "source": [
    "Please see the :ref:`API documentation<api>` for a full list of segmentation-related\n",
    "functions."
   ]
  }
 ],
 "metadata": {
  "celltoolbar": "Raw Cell Format",
  "kernelspec": {
   "display_name": "Python 3 (ipykernel)",
   "language": "python",
   "name": "python3"
  },
  "language_info": {
   "codemirror_mode": {
    "name": "ipython",
    "version": 3
   },
   "file_extension": ".py",
   "mimetype": "text/x-python",
   "name": "python",
   "nbconvert_exporter": "python",
   "pygments_lexer": "ipython3",
   "version": "3.9.9"
  },
  "widgets": {
   "application/vnd.jupyter.widget-state+json": {
    "state": {
     "08bf97cd7cfe474789b2d561addd484c": {
      "model_module": "@jupyter-widgets/controls",
      "model_module_version": "1.5.0",
      "model_name": "FloatProgressModel",
      "state": {
       "layout": "IPY_MODEL_a59704054fbe4a4ab5b83c6d5ca27928",
       "max": 3,
       "style": "IPY_MODEL_1d9164ec3865433b949b2d2fe9774902",
       "value": 3
      }
     },
     "0e9b11a877624692acfa5a6df85979c4": {
      "model_module": "@jupyter-widgets/controls",
      "model_module_version": "1.5.0",
      "model_name": "DescriptionStyleModel",
      "state": {
       "description_width": ""
      }
     },
     "152fa4799e504f79bd0094085cf08537": {
      "model_module": "@jupyter-widgets/controls",
      "model_module_version": "1.5.0",
      "model_name": "DescriptionStyleModel",
      "state": {
       "description_width": ""
      }
     },
     "1d9164ec3865433b949b2d2fe9774902": {
      "model_module": "@jupyter-widgets/controls",
      "model_module_version": "1.5.0",
      "model_name": "ProgressStyleModel",
      "state": {
       "description_width": ""
      }
     },
     "25f8b0b85fa347b881d1c2fa0126f457": {
      "model_module": "@jupyter-widgets/controls",
      "model_module_version": "1.5.0",
      "model_name": "DescriptionStyleModel",
      "state": {
       "description_width": ""
      }
     },
     "2b2157f8938f4b64879c69e3a6974eb3": {
      "model_module": "@jupyter-widgets/controls",
      "model_module_version": "1.5.0",
      "model_name": "HTMLModel",
      "state": {
       "layout": "IPY_MODEL_96496249af064c1cb45516c3512d20c7",
       "style": "IPY_MODEL_152fa4799e504f79bd0094085cf08537",
       "value": " 2/3 [00:02&lt;00:01,  1.47s/it]"
      }
     },
     "2c61e9bf1b1e4fe6aa09edc127eba8d0": {
      "model_module": "@jupyter-widgets/controls",
      "model_module_version": "1.5.0",
      "model_name": "ProgressStyleModel",
      "state": {
       "description_width": ""
      }
     },
     "36c0d20b01f94ece9ab90ca38fa2e898": {
      "model_module": "@jupyter-widgets/controls",
      "model_module_version": "1.5.0",
      "model_name": "HTMLModel",
      "state": {
       "layout": "IPY_MODEL_7e140fc924e2462fb4fc1ccd851b0022",
       "style": "IPY_MODEL_6154d580cf084b9f962bc6ad3c41a187",
       "value": "Fetching L2 info:  67%"
      }
     },
     "392185f60dec4580a0084850ee12cf38": {
      "model_module": "@jupyter-widgets/base",
      "model_module_version": "1.2.0",
      "model_name": "LayoutModel",
      "state": {}
     },
     "3d7cd687d1e9465996515d6a7a30502d": {
      "model_module": "@jupyter-widgets/controls",
      "model_module_version": "1.5.0",
      "model_name": "HTMLModel",
      "state": {
       "layout": "IPY_MODEL_65c6a09cf6fa4299b739e28c5fc2e9d4",
       "style": "IPY_MODEL_25f8b0b85fa347b881d1c2fa0126f457",
       "value": "Fetching L2 info:  67%"
      }
     },
     "4184effa39124bd9bfe9c0315e73881d": {
      "model_module": "@jupyter-widgets/controls",
      "model_module_version": "1.5.0",
      "model_name": "ProgressStyleModel",
      "state": {
       "description_width": ""
      }
     },
     "4f810236a5c3446c8193d7e3d56e1759": {
      "model_module": "@jupyter-widgets/controls",
      "model_module_version": "1.5.0",
      "model_name": "HTMLModel",
      "state": {
       "layout": "IPY_MODEL_aedd6422d25e4a27bc5eebc12032aa46",
       "style": "IPY_MODEL_0e9b11a877624692acfa5a6df85979c4",
       "value": " 3/3 [00:06&lt;00:00,  1.76s/it]"
      }
     },
     "6154d580cf084b9f962bc6ad3c41a187": {
      "model_module": "@jupyter-widgets/controls",
      "model_module_version": "1.5.0",
      "model_name": "DescriptionStyleModel",
      "state": {
       "description_width": ""
      }
     },
     "62ec0e2864de4c598d389147ab10ffec": {
      "model_module": "@jupyter-widgets/controls",
      "model_module_version": "1.5.0",
      "model_name": "DescriptionStyleModel",
      "state": {
       "description_width": ""
      }
     },
     "65c6a09cf6fa4299b739e28c5fc2e9d4": {
      "model_module": "@jupyter-widgets/base",
      "model_module_version": "1.2.0",
      "model_name": "LayoutModel",
      "state": {}
     },
     "671835f669e94d79b8007360b77cded3": {
      "model_module": "@jupyter-widgets/base",
      "model_module_version": "1.2.0",
      "model_name": "LayoutModel",
      "state": {}
     },
     "7e140fc924e2462fb4fc1ccd851b0022": {
      "model_module": "@jupyter-widgets/base",
      "model_module_version": "1.2.0",
      "model_name": "LayoutModel",
      "state": {}
     },
     "7fe0958005ac43e69f29d1ac3ed69ce2": {
      "model_module": "@jupyter-widgets/controls",
      "model_module_version": "1.5.0",
      "model_name": "DescriptionStyleModel",
      "state": {
       "description_width": ""
      }
     },
     "87c5bf270fb14d5ca4645fc56e8cee86": {
      "model_module": "@jupyter-widgets/controls",
      "model_module_version": "1.5.0",
      "model_name": "HTMLModel",
      "state": {
       "layout": "IPY_MODEL_da35cd98e52544df9f0209629211143b",
       "style": "IPY_MODEL_62ec0e2864de4c598d389147ab10ffec",
       "value": "Updating: 100%"
      }
     },
     "8a88ebd3668c4a55bbc06c83c25f9d3b": {
      "model_module": "@jupyter-widgets/controls",
      "model_module_version": "1.5.0",
      "model_name": "FloatProgressModel",
      "state": {
       "layout": "IPY_MODEL_f7fa5cc1b4574dec82d8c0699e708f8c",
       "max": 3,
       "style": "IPY_MODEL_2c61e9bf1b1e4fe6aa09edc127eba8d0",
       "value": 3
      }
     },
     "96496249af064c1cb45516c3512d20c7": {
      "model_module": "@jupyter-widgets/base",
      "model_module_version": "1.2.0",
      "model_name": "LayoutModel",
      "state": {}
     },
     "a59704054fbe4a4ab5b83c6d5ca27928": {
      "model_module": "@jupyter-widgets/base",
      "model_module_version": "1.2.0",
      "model_name": "LayoutModel",
      "state": {}
     },
     "aea40ae6995d4babbcf686bea789bce4": {
      "model_module": "@jupyter-widgets/base",
      "model_module_version": "1.2.0",
      "model_name": "LayoutModel",
      "state": {}
     },
     "aedd6422d25e4a27bc5eebc12032aa46": {
      "model_module": "@jupyter-widgets/base",
      "model_module_version": "1.2.0",
      "model_name": "LayoutModel",
      "state": {}
     },
     "b2b35922c6fd4012bef0acde72efc2bb": {
      "model_module": "@jupyter-widgets/controls",
      "model_module_version": "1.5.0",
      "model_name": "HTMLModel",
      "state": {
       "layout": "IPY_MODEL_d35bee3c96a94ca19cda15b6603644a1",
       "style": "IPY_MODEL_7fe0958005ac43e69f29d1ac3ed69ce2",
       "value": " 2/3 [00:03&lt;00:01,  1.76s/it]"
      }
     },
     "d35bee3c96a94ca19cda15b6603644a1": {
      "model_module": "@jupyter-widgets/base",
      "model_module_version": "1.2.0",
      "model_name": "LayoutModel",
      "state": {}
     },
     "da35cd98e52544df9f0209629211143b": {
      "model_module": "@jupyter-widgets/base",
      "model_module_version": "1.2.0",
      "model_name": "LayoutModel",
      "state": {}
     },
     "e3a7fb2039bb48898825d1e4acc0716f": {
      "model_module": "@jupyter-widgets/controls",
      "model_module_version": "1.5.0",
      "model_name": "FloatProgressModel",
      "state": {
       "layout": "IPY_MODEL_e438f78f3ab946e8a91966cccf16e9e1",
       "max": 3,
       "style": "IPY_MODEL_4184effa39124bd9bfe9c0315e73881d",
       "value": 3
      }
     },
     "e438f78f3ab946e8a91966cccf16e9e1": {
      "model_module": "@jupyter-widgets/base",
      "model_module_version": "1.2.0",
      "model_name": "LayoutModel",
      "state": {}
     },
     "f7fa5cc1b4574dec82d8c0699e708f8c": {
      "model_module": "@jupyter-widgets/base",
      "model_module_version": "1.2.0",
      "model_name": "LayoutModel",
      "state": {}
     }
    },
    "version_major": 2,
    "version_minor": 0
   }
  }
 },
 "nbformat": 4,
 "nbformat_minor": 4
}
