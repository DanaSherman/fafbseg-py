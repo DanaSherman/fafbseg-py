{
 "cells": [
  {
   "cell_type": "raw",
   "metadata": {
    "raw_mimetype": "text/restructuredtext"
   },
   "source": [
    ".. _transforming:\n",
    "\n",
    "Transforming data between FAFB14 and FlyWire\n",
    "============================================\n",
    "\n",
    "Units matter!\n",
    "*************\n",
    "Before we get started there is one very important thing to keep in mind:\n",
    "\n",
    "Spatial data can be in physical space (e.g. microns or nanometers) or in voxels.\n",
    "For FAFB, you will typically find stuff to be in either nanometers or in\n",
    "4x4x40nm voxels. Some simple rules of thumb:\n",
    "\n",
    "1. Data (neurons, connectors, etc.) in CATMAID are in nanometers\n",
    "2. Data (neuron meshes) in FlyWire are in nanometers\n",
    "3. The CATMAID interface shows both physical units [nm] and voxels\n",
    "4. The FlyWire neuroglancer interface typically uses voxels\n",
    "\n",
    "Bottom line: you need to be aware of the units of the object you are trying to transform.\n",
    "\n",
    "Transforming coordinates\n",
    "************************\n",
    "There are two ways to transform spatial data (neurons, meshes, x/y/z coordinates)\n",
    "between FAFB14 and FlyWire space (also called \"FAFB14.1\"). The most convenient way \n",
    "is to use ``navis`` built-in transform system. \n",
    "\n",
    "As soon as you import ``fafbseg``, the following transforms become available to ``navis``:\n",
    "\n",
    "|\n",
    "\n",
    ".. image:: ../../_static/fafbseg_bridging_graph.png\n",
    "   :width: 500\n",
    "   :align: center\n",
    "   \n",
    "|\n",
    "\n",
    "Let's take it for a spin:"
   ]
  },
  {
   "cell_type": "code",
   "execution_count": 1,
   "metadata": {},
   "outputs": [],
   "source": [
    ">>> import fafbseg\n",
    ">>> import navis"
   ]
  },
  {
   "cell_type": "raw",
   "metadata": {
    "raw_mimetype": "text/restructuredtext"
   },
   "source": [
    "First example: map a single location from FAFB14 to FlyWire.\n",
    "\n",
    "In CATMAID, left-click on the little pin icon in the upper right (next to the\n",
    "`Pos, Id, ` field) to copy the current location (in nanometers) to the clipboard.\n",
    "Note that holding *shift* while clicking on the icon copies the location in voxels."
   ]
  },
  {
   "cell_type": "code",
   "execution_count": 2,
   "metadata": {},
   "outputs": [],
   "source": [
    ">>> import numpy as np\n",
    "\n",
    ">>> # The location from the clipboard\n",
    ">>> pos = np.array([[249960, 184691.375, 174240]])"
   ]
  },
  {
   "cell_type": "raw",
   "metadata": {
    "raw_mimetype": "text/restructuredtext"
   },
   "source": [
    "Looking at above bridging graph, our coordinates are in ``\"FAFB14\"`` (nm) space\n",
    "and we want to go to ``\"FLYWIREraw\"`` (voxel) so that we can copy-paste the\n",
    "coordinates into the FlyWire neuroglancer\":"
   ]
  },
  {
   "cell_type": "code",
   "execution_count": 3,
   "metadata": {},
   "outputs": [
    {
     "name": "stdout",
     "output_type": "stream",
     "text": [
      "Transform path: FAFB14 -> FAFB14raw -> FLYWIREraw\n"
     ]
    },
    {
     "data": {
      "text/plain": [
       "array([[62648.5    , 46291.34375,  4356.     ]])"
      ]
     },
     "execution_count": 3,
     "metadata": {},
     "output_type": "execute_result"
    }
   ],
   "source": [
    ">>> navis.xform_brain(pos, source=\"FAFB14\", target=\"FLYWIREraw\")"
   ]
  },
  {
   "cell_type": "raw",
   "metadata": {
    "raw_mimetype": "text/restructuredtext"
   },
   "source": [
    "If you copy the above coordinates into the FlyWire neuroglancer, they should get\n",
    "you exactly to the same location.\n",
    "\n",
    "The advantage of ``navis.xform_brain`` is that it ties in with other available\n",
    "transforms. So in theory, you could go from ``FLYWIRE`` all the way to\n",
    "``JRC2018F`` with a command. \n",
    "\n",
    "The alternative to ``navis.xform_brain`` is to use a lower-level function:\n",
    ":func:`fafbseg.xform.fafb14_to_flywire`. This function and its inverse\n",
    "counterpart :func:`fafbseg.xform.flywire_to_fafb14` give you a bit more\n",
    "control over the transform."
   ]
  },
  {
   "cell_type": "code",
   "execution_count": 4,
   "metadata": {},
   "outputs": [
    {
     "data": {
      "text/plain": [
       "array([[250594.  , 185165.38, 174240.  ]], dtype=float32)"
      ]
     },
     "execution_count": 4,
     "metadata": {},
     "output_type": "execute_result"
    }
   ],
   "source": [
    ">>> fafbseg.xform.fafb14_to_flywire(pos, coordinates=\"nm\")"
   ]
  },
  {
   "cell_type": "raw",
   "metadata": {
    "raw_mimetype": "text/restructuredtext"
   },
   "source": [
    "Note that these lower-level functions always return in the same space - hence above result is also in nanometers.\n",
    "\n",
    "Second example: transforming a neuron"
   ]
  },
  {
   "cell_type": "code",
   "execution_count": 6,
   "metadata": {},
   "outputs": [
    {
     "name": "stderr",
     "output_type": "stream",
     "text": [
      "INFO  : Global CATMAID instance set. Caching is ON. (pymaid)\n"
     ]
    },
    {
     "name": "stdout",
     "output_type": "stream",
     "text": [
      "Transform path: FAFB14 -> FAFB14raw -> FLYWIREraw -> FLYWIRE\n"
     ]
    }
   ],
   "source": [
    ">>> import pymaid\n",
    "\n",
    ">>> # Connect to the VirtualFlyBrain's public CATMAID instance\n",
    ">>> cn = pymaid.CatmaidInstance(\n",
    "...     server=\"https://fafb.catmaid.virtualflybrain.org/\", project_id=1, api_token=None\n",
    "... )\n",
    "\n",
    ">>> # Load a neuron\n",
    ">>> n = pymaid.get_neuron(16)\n",
    "\n",
    ">>> # Xform the neuron - note we stay in nanometer space for now\n",
    ">>> xf = navis.xform_brain(n, source=\"FAFB14\", target=\"FLYWIRE\")"
   ]
  },
  {
   "cell_type": "code",
   "execution_count": 14,
   "metadata": {},
   "outputs": [
    {
     "data": {
      "application/vnd.jupyter.widget-view+json": {
       "model_id": "",
       "version_major": 2,
       "version_minor": 0
      },
      "text/plain": [
       "HBox(children=(HTML(value='Plot neurons'), FloatProgress(value=0.0, max=2.0), HTML(value='')))"
      ]
     },
     "metadata": {},
     "output_type": "display_data"
    },
    {
     "data": {
      "image/png": "[encoded data removed]",
      "text/plain": [
       "<Figure size 432x432 with 1 Axes>"
      ]
     },
     "metadata": {
      "needs_background": "light"
     },
     "output_type": "display_data"
    }
   ],
   "source": [
    ">>> # Co-visualize the original (FAFB space) and the transformed (FlyWire space) neurons\n",
    ">>> fig, ax = navis.plot2d([n, xf], color=[\"r\", \"c\"], lw=0.5)\n",
    ">>> ax.azim = ax.elev = -90"
   ]
  },
  {
   "cell_type": "raw",
   "metadata": {
    "raw_mimetype": "text/restructuredtext"
   },
   "source": [
    "As you can see, the offsets are rather small - probably most obvious in the soma tract."
   ]
  }
 ],
 "metadata": {
  "celltoolbar": "Raw Cell Format",
  "kernelspec": {
   "display_name": "Python 3",
   "language": "python",
   "name": "python3"
  },
  "language_info": {
   "codemirror_mode": {
    "name": "ipython",
    "version": 3
   },
   "file_extension": ".py",
   "mimetype": "text/x-python",
   "name": "python",
   "nbconvert_exporter": "python",
   "pygments_lexer": "ipython3",
   "version": "3.9.9"
  }
 },
 "nbformat": 4,
 "nbformat_minor": 2
}
