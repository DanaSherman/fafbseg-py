{
 "cells": [
  {
   "cell_type": "raw",
   "metadata": {
    "raw_mimetype": "text/restructuredtext"
   },
   "source": [
    ".. _neuroglancer\n",
    "\n",
    "Parsing and Generating FlyWire URLs\n",
    "===================================\n",
    "The modified neuroglancer used by flywire lets you share shortened URLs. \n",
    "We can both read these URLs to extract segment IDs and generate URLs \n",
    "to inject segment IDs or annotations.\n",
    "\n",
    "First things first: if you haven't already, please generate and save your\n",
    ":doc:`chunkedgraph secret<flywire_secret>` so that you can fetch flywire data.\n",
    "\n",
    "Decoding URLs\n",
    "*************"
   ]
  },
  {
   "cell_type": "code",
   "execution_count": 2,
   "metadata": {},
   "outputs": [
    {
     "data": {
      "text/plain": [
       "{'position': [124266.1796875, 53184.04296875, 2593.12060546875],\n",
       " 'annotations': [],\n",
       " 'selected': ['720575940618780781']}"
      ]
     },
     "execution_count": 2,
     "metadata": {},
     "output_type": "execute_result"
    }
   ],
   "source": [
    "import fafbseg\n",
    "\n",
    "# Paste shortened URL\n",
    "fafbseg.flywire.decode_url('https://ngl.flywire.ai/?json_url=https://globalv1.flywire-daf.com/nglstate/5658438042386432')"
   ]
  },
  {
   "cell_type": "raw",
   "metadata": {
    "raw_mimetype": "text/restructuredtext"
   },
   "source": [
    "As you can see the exemplary URL only contains a single neuron ``720575940618780781`` and no annotations.\n",
    "Note that by default :func:`fafbseg.flywire.decode_url` returns only parts of the neuroglancer \"scene\". "
   ]
  },
  {
   "cell_type": "code",
   "execution_count": 3,
   "metadata": {},
   "outputs": [
    {
     "data": {
      "text/plain": [
       "{'layers': [{'source': 'precomputed://gs://microns-seunglab/drosophila_v0/alignment/image_rechunked',\n",
       "   'type': 'image',\n",
       "   'blend': 'default',\n",
       "   'shaderControls': {},\n",
       "   'name': 'Production-image'},\n",
       "  {'source': 'graphene://https://prod.flywire-daf.com/segmentation/1.0/fly_v31',\n",
       "   'type': 'segmentation_with_graph',\n",
       "   'segments': ['720575940618780781'],\n",
       "   'skeletonRendering': {'mode2d': 'lines_and_points', 'mode3d': 'lines'},\n",
       "   'graphOperationMarker': [{'annotations': [], 'tags': []},\n",
       "    {'annotations': [], 'tags': []}],\n",
       "   'pathFinder': {'color': '#ffff00',\n",
       "    'pathObject': {'annotationPath': {'annotations': [], 'tags': []},\n",
       "     'hasPath': False}},\n",
       "   'name': 'Production-segmentation_with_graph'}],\n",
       " 'navigation': {'pose': {'position': {'voxelSize': [4, 4, 40],\n",
       "    'voxelCoordinates': [124266.1796875, 53184.04296875, 2593.12060546875]}},\n",
       "  'zoomFactor': 15.302007160698565},\n",
       " 'perspectiveOrientation': [-0.0892081931233406,\n",
       "  0.03333089128136635,\n",
       "  -0.027877885848283768,\n",
       "  0.9950647354125977],\n",
       " 'perspectiveZoom': 4077.678405489736,\n",
       " 'showSlices': False,\n",
       " 'jsonStateServer': 'https://globalv1.flywire-daf.com/nglstate/post',\n",
       " 'selectedLayer': {'layer': 'Production-segmentation_with_graph',\n",
       "  'visible': True},\n",
       " 'layout': 'xy-3d'}"
      ]
     },
     "execution_count": 3,
     "metadata": {},
     "output_type": "execute_result"
    }
   ],
   "source": [
    "fafbseg.flywire.decode_url('https://ngl.flywire.ai/?json_url=https://globalv1.flywire-daf.com/nglstate/5658438042386432',\n",
    "                           ret='full')"
   ]
  },
  {
   "cell_type": "raw",
   "metadata": {
    "raw_mimetype": "text/restructuredtext"
   },
   "source": [
    "You get much more info with ``ret='full'`` but probably not all that relevant to you.\n",
    "\n",
    "\n",
    "Encoding URLs\n",
    "*************\n",
    "What about generating our own URLs? Easy! Lets start by recreating the same scene as we have above:"
   ]
  },
  {
   "cell_type": "code",
   "execution_count": 4,
   "metadata": {},
   "outputs": [
    {
     "data": {
      "text/plain": [
       "'https://ngl.flywire.ai/?json_url=https://globalv1.flywire-daf.com/nglstate/5753487916793856'"
      ]
     },
     "execution_count": 4,
     "metadata": {},
     "output_type": "execute_result"
    }
   ],
   "source": [
    "url = fafbseg.flywire.encode_url(segments=[720575940618780781])\n",
    "url"
   ]
  },
  {
   "cell_type": "raw",
   "metadata": {
    "raw_mimetype": "text/restructuredtext"
   },
   "source": [
    "Opening that URL should load a scene containing only that one neuron. \n",
    "\n",
    "By-the-by: you can also open the URL straight away like so"
   ]
  },
  {
   "cell_type": "code",
   "execution_count": null,
   "metadata": {},
   "outputs": [],
   "source": [
    "fafbseg.flywire.encode_url(segments=[720575940618780781], open_browser=True)"
   ]
  },
  {
   "cell_type": "raw",
   "metadata": {
    "raw_mimetype": "text/restructuredtext"
   },
   "source": [
    "How about some colours?"
   ]
  },
  {
   "cell_type": "code",
   "execution_count": 7,
   "metadata": {},
   "outputs": [
    {
     "data": {
      "text/plain": [
       "'https://ngl.flywire.ai/?json_url=https://globalv1.flywire-daf.com/nglstate/5640077560512512'"
      ]
     },
     "execution_count": 7,
     "metadata": {},
     "output_type": "execute_result"
    }
   ],
   "source": [
    "# Load neuron in red\n",
    "fafbseg.flywire.encode_url(segments=[720575940618780781], open_browser=True, seg_colors=['r'])"
   ]
  },
  {
   "cell_type": "raw",
   "metadata": {
    "raw_mimetype": "text/restructuredtext"
   },
   "source": [
    "We can also add x/y/z coordinates as annotations:"
   ]
  },
  {
   "cell_type": "code",
   "execution_count": 9,
   "metadata": {},
   "outputs": [
    {
     "data": {
      "text/plain": [
       "'https://ngl.flywire.ai/?json_url=https://globalv1.flywire-daf.com/nglstate/5679695580364800'"
      ]
     },
     "execution_count": 9,
     "metadata": {},
     "output_type": "execute_result"
    }
   ],
   "source": [
    "fafbseg.flywire.encode_url(segments=[720575940618780781],\n",
    "                           annotations=[[124266, 53184, 2500],\n",
    "                                        [124266, 53184, 2600],\n",
    "                                        [124266, 53184, 2700]],\n",
    "                           open_browser=True, seg_colors=['r'])"
   ]
  },
  {
   "cell_type": "raw",
   "metadata": {
    "raw_mimetype": "text/restructuredtext"
   },
   "source": [
    "You can also add skeletons (e.g. loaded from CATMAID) as annotations but that unfortunately slows\n",
    "down neuroglancer pretty quickly.\n",
    "\n",
    "Check out :func:`fafbseg.flywire.encode_url` for full capabilities."
   ]
  }
 ],
 "metadata": {
  "celltoolbar": "Raw Cell Format",
  "kernelspec": {
   "display_name": "Python 3",
   "language": "python",
   "name": "python3"
  },
  "language_info": {
   "codemirror_mode": {
    "name": "ipython",
    "version": 3
   },
   "file_extension": ".py",
   "mimetype": "text/x-python",
   "name": "python",
   "nbconvert_exporter": "python",
   "pygments_lexer": "ipython3",
   "version": "3.7.5"
  }
 },
 "nbformat": 4,
 "nbformat_minor": 2
}
