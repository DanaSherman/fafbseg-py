{
 "cells": [
  {
   "cell_type": "raw",
   "metadata": {
    "raw_mimetype": "text/restructuredtext"
   },
   "source": [
    ".. _neuroglancer\n",
    "\n",
    "Parsing and generating FlyWire URLs\n",
    "===================================\n",
    "The modified neuroglancer used by FlyWire lets you share shortened URLs. \n",
    "We can both read these URLs to extract segment IDs and generate URLs \n",
    "to inject segment IDs or annotations.\n",
    "\n",
    "First things first: if you haven't already, please generate and save your\n",
    ":ref:`chunkedgraph secret<flywire_setup>` so that you can fetch FlyWire data.\n",
    "\n",
    "Decoding URLs\n",
    "*************"
   ]
  },
  {
   "cell_type": "code",
   "execution_count": 1,
   "metadata": {},
   "outputs": [
    {
     "data": {
      "text/plain": [
       "{'layers': [{'source': 'precomputed://https://bossdb-open-data.s3.amazonaws.com/flywire/fafbv14',\n",
       "   'type': 'image',\n",
       "   'blend': 'default',\n",
       "   'shaderControls': {},\n",
       "   'name': 'Maryland (USA)-image'},\n",
       "  {'source': 'graphene://https://prodv1.flywire-daf.com/segmentation/1.0/flywire_public',\n",
       "   'type': 'segmentation_with_graph',\n",
       "   'segments': ['720575940605214636', '720575940631693610'],\n",
       "   'skeletonRendering': {'mode2d': 'lines_and_points', 'mode3d': 'lines'},\n",
       "   'timestamp': '1679386201',\n",
       "   'graphOperationMarker': [{'annotations': [], 'tags': []},\n",
       "    {'annotations': [], 'tags': []}],\n",
       "   'pathFinder': {'color': '#ffff00',\n",
       "    'pathObject': {'annotationPath': {'annotations': [], 'tags': []},\n",
       "     'hasPath': False}},\n",
       "   'name': 'Public Release-segmentation_with_graph'}],\n",
       " 'navigation': {'pose': {'position': {'voxelSize': [4, 4, 40],\n",
       "    'voxelCoordinates': [158581, 72226, 2189]}},\n",
       "  'zoomFactor': 4},\n",
       " 'showDefaultAnnotations': False,\n",
       " 'perspectiveZoom': 79,\n",
       " 'jsonStateServer': 'https://globalv1.flywire-daf.com/nglstate/post',\n",
       " 'selectedLayer': {'layer': 'Public Release-segmentation_with_graph'},\n",
       " 'layout': 'xy-3d'}"
      ]
     },
     "execution_count": 1,
     "metadata": {},
     "output_type": "execute_result"
    }
   ],
   "source": [
    ">>> from fafbseg import flywire\n",
    "\n",
    ">>> # Paste a shortened URL to decode it\n",
    ">>> flywire.decode_url(\n",
    "...     \"https://ngl.flywire.ai/?json_url=https://globalv1.flywire-daf.com/nglstate/5492440108630016\"\n",
    "... )"
   ]
  },
  {
   "cell_type": "raw",
   "metadata": {
    "raw_mimetype": "text/restructuredtext"
   },
   "source": [
    "The exemplary URL used above encodes the default scene when you open \n",
    "https://ngl.flywire.ai. It contains the EM image and the public release \n",
    "segmentation layer with two neurons (``720575940605214636`` and \n",
    "``720575940631693610``) selected.\n",
    "\n",
    "By default :func:`~fafbseg.flywire.flywire.decode_url` returns a dictionary \n",
    "with the entire scene. If you need something more compact you can change the \n",
    "format of the output:"
   ]
  },
  {
   "cell_type": "code",
   "execution_count": 2,
   "metadata": {},
   "outputs": [
    {
     "data": {
      "text/html": [
       "<div>\n",
       "<style scoped>\n",
       "    .dataframe tbody tr th:only-of-type {\n",
       "        vertical-align: middle;\n",
       "    }\n",
       "\n",
       "    .dataframe tbody tr th {\n",
       "        vertical-align: top;\n",
       "    }\n",
       "\n",
       "    .dataframe thead th {\n",
       "        text-align: right;\n",
       "    }\n",
       "</style>\n",
       "<table border=\"1\" class=\"dataframe\">\n",
       "  <thead>\n",
       "    <tr style=\"text-align: right;\">\n",
       "      <th></th>\n",
       "      <th>segment</th>\n",
       "      <th>layer</th>\n",
       "      <th>visible</th>\n",
       "    </tr>\n",
       "  </thead>\n",
       "  <tbody>\n",
       "    <tr>\n",
       "      <th>0</th>\n",
       "      <td>720575940605214636</td>\n",
       "      <td>Public Release-segmentation_with_graph</td>\n",
       "      <td>True</td>\n",
       "    </tr>\n",
       "    <tr>\n",
       "      <th>1</th>\n",
       "      <td>720575940631693610</td>\n",
       "      <td>Public Release-segmentation_with_graph</td>\n",
       "      <td>True</td>\n",
       "    </tr>\n",
       "  </tbody>\n",
       "</table>\n",
       "</div>"
      ],
      "text/plain": [
       "              segment                                   layer  visible\n",
       "0  720575940605214636  Public Release-segmentation_with_graph     True\n",
       "1  720575940631693610  Public Release-segmentation_with_graph     True"
      ]
     },
     "execution_count": 2,
     "metadata": {},
     "output_type": "execute_result"
    }
   ],
   "source": [
    ">>> flywire.decode_url(\n",
    "...     \"https://ngl.flywire.ai/?json_url=https://globalv1.flywire-daf.com/nglstate/5492440108630016\",\n",
    "...     format=\"dataframe\",\n",
    "... )"
   ]
  },
  {
   "cell_type": "raw",
   "metadata": {
    "raw_mimetype": "text/restructuredtext"
   },
   "source": [
    "Encoding URLs\n",
    "*************\n",
    "What about generating our own URLs? Easy! Lets start by recreating the same scene as we have above:"
   ]
  },
  {
   "cell_type": "code",
   "execution_count": 5,
   "metadata": {},
   "outputs": [
    {
     "data": {
      "text/plain": [
       "'https://ngl.flywire.ai/?json_url=https://globalv1.flywire-daf.com/nglstate/5820193760608256'"
      ]
     },
     "execution_count": 5,
     "metadata": {},
     "output_type": "execute_result"
    }
   ],
   "source": [
    ">>> url = flywire.encode_url(\n",
    "...     segments=[720575940605214636, 720575940631693610], dataset=\"public\"\n",
    "... )\n",
    ">>> url"
   ]
  },
  {
   "cell_type": "raw",
   "metadata": {
    "raw_mimetype": "text/restructuredtext"
   },
   "source": [
    "Opening that URL should load a scene containing only those two neurons. \n",
    "\n",
    "By-the-by: you can also open the URL straight away like so"
   ]
  },
  {
   "cell_type": "code",
   "execution_count": 4,
   "metadata": {},
   "outputs": [],
   "source": [
    ">>> url = flywire.encode_url(\n",
    "...     segments=[720575940605214636, 720575940631693610], dataset=\"public\", open=True\n",
    "... )"
   ]
  },
  {
   "cell_type": "raw",
   "metadata": {
    "raw_mimetype": "text/restructuredtext"
   },
   "source": [
    "How about some colors?"
   ]
  },
  {
   "cell_type": "code",
   "execution_count": 3,
   "metadata": {},
   "outputs": [
    {
     "data": {
      "text/plain": [
       "'https://ngl.flywire.ai/?json_url=https://globalv1.flywire-daf.com/nglstate/4925525631959040'"
      ]
     },
     "execution_count": 3,
     "metadata": {},
     "output_type": "execute_result"
    }
   ],
   "source": [
    ">>> # Load neuron in red\n",
    ">>> flywire.encode_url(\n",
    "...     segments=[720575940605214636, 720575940631693610],\n",
    "...     open=True,\n",
    "...     seg_colors=[\"r\", \"g\"],\n",
    "...     dataset=\"public\",\n",
    "... )"
   ]
  },
  {
   "cell_type": "raw",
   "metadata": {
    "raw_mimetype": "text/restructuredtext"
   },
   "source": [
    "We can also add x/y/z coordinates as annotations:"
   ]
  },
  {
   "cell_type": "code",
   "execution_count": 2,
   "metadata": {},
   "outputs": [
    {
     "data": {
      "text/plain": [
       "'https://ngl.flywire.ai/?json_url=https://globalv1.flywire-daf.com/nglstate/6291373214924800'"
      ]
     },
     "execution_count": 2,
     "metadata": {},
     "output_type": "execute_result"
    }
   ],
   "source": [
    ">>> flywire.encode_url(\n",
    "...     segments=[720575940605214636, 720575940631693610],\n",
    "...     annotations=[[124266, 53184, 2500], [124266, 53184, 2600], [124266, 53184, 2700]],\n",
    "...     open=True,\n",
    "...     seg_colors=[\"r\", \"g\"],\n",
    "...     dataset=\"public\",\n",
    "... )"
   ]
  },
  {
   "cell_type": "raw",
   "metadata": {
    "raw_mimetype": "text/restructuredtext"
   },
   "source": [
    "You can also add skeletons (e.g. loaded from CATMAID) as annotations but that unfortunately slows\n",
    "down neuroglancer pretty quickly.\n",
    "\n",
    "Check out :func:`fafbseg.flywire.encode_url` for full capabilities."
   ]
  }
 ],
 "metadata": {
  "celltoolbar": "Raw Cell Format",
  "kernelspec": {
   "display_name": "Python 3 (ipykernel)",
   "language": "python",
   "name": "python3"
  },
  "language_info": {
   "codemirror_mode": {
    "name": "ipython",
    "version": 3
   },
   "file_extension": ".py",
   "mimetype": "text/x-python",
   "name": "python",
   "nbconvert_exporter": "python",
   "pygments_lexer": "ipython3",
   "version": "3.9.9"
  },
  "widgets": {
   "application/vnd.jupyter.widget-state+json": {
    "state": {},
    "version_major": 2,
    "version_minor": 0
   }
  }
 },
 "nbformat": 4,
 "nbformat_minor": 4
}
