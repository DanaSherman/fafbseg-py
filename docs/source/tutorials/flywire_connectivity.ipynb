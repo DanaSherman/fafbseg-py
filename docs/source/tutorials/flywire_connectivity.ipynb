{
 "cells": [
  {
   "cell_type": "raw",
   "metadata": {
    "raw_mimetype": "text/restructuredtext",
    "tags": []
   },
   "source": [
    ".. _flywire_connectivity:\n",
    "\n",
    "Fetching connectivity\n",
    "=====================\n",
    "\n",
    "Some background\n",
    "---------------\n",
    "Thanks to `Buhmann et al., 2019 <https://www.biorxiv.org/content/10.1101/2019.12.12.874172v2>`_\n",
    "we have a synapse prediction for the FAFB dataset.\n",
    "\n",
    "To facilitate querying that data for FlyWire, Sven Dorkenwald, Forrest Collman `et al.` have loaded\n",
    "these data into their CAVE annotation backend. ``fafbseg.flywire`` provides a couple\n",
    "convenient wrappers to fetch synapses and connectivity.\n",
    "\n",
    "Here, we will focus on querying connectivity for the FlyWire project and for that a bit of background\n",
    "information is in order:\n",
    "\n",
    "The synapse predictions are actually ~130M connections (220M before filtering) each\n",
    "of which consists of a presynaptic and a postsynaptic x/y/z coordinate\n",
    "plus some meta data. These coordinates have been mapped to FlyWire supervoxel IDs.\n",
    "The tricky (read: expensive/slow) part is mapping these static supervoxels to the ever\n",
    "changing root IDs. This step is being done by the \"materialization\" CAVE engine.\n",
    "\n",
    "These materializations are run once every night and kept for a couple\n",
    "days before being discarded. Some versions - like the FlyWire public release\n",
    "a.k.a. materialization version `630` - are immortal.\n",
    "\n",
    "The important thing to keep in mind is: each materialization represent a snapshot\n",
    "for the root IDs that existed `at that time`.\n",
    "\n",
    "Let's start with an example of how you can check the dates:"
   ]
  },
  {
   "cell_type": "code",
   "execution_count": 1,
   "metadata": {},
   "outputs": [],
   "source": [
    ">>> from fafbseg import flywire"
   ]
  },
  {
   "cell_type": "raw",
   "metadata": {},
   "source": [
    "To illustrate let's fetch the currently available materializations. Note that\n",
    "this will only work if you have production data access!"
   ]
  },
  {
   "cell_type": "code",
   "execution_count": 2,
   "metadata": {},
   "outputs": [
    {
     "data": {
      "text/html": [
       "<div>\n",
       "<style scoped>\n",
       "    .dataframe tbody tr th:only-of-type {\n",
       "        vertical-align: middle;\n",
       "    }\n",
       "\n",
       "    .dataframe tbody tr th {\n",
       "        vertical-align: top;\n",
       "    }\n",
       "\n",
       "    .dataframe thead th {\n",
       "        text-align: right;\n",
       "    }\n",
       "</style>\n",
       "<table border=\"1\" class=\"dataframe\">\n",
       "  <thead>\n",
       "    <tr style=\"text-align: right;\">\n",
       "      <th></th>\n",
       "      <th>is_merged</th>\n",
       "      <th>datastack</th>\n",
       "      <th>id</th>\n",
       "      <th>status</th>\n",
       "      <th>version</th>\n",
       "      <th>time_stamp</th>\n",
       "      <th>expires_on</th>\n",
       "      <th>valid</th>\n",
       "    </tr>\n",
       "  </thead>\n",
       "  <tbody>\n",
       "    <tr>\n",
       "      <th>0</th>\n",
       "      <td>False</td>\n",
       "      <td>flywire_fafb_production</td>\n",
       "      <td>823</td>\n",
       "      <td>AVAILABLE</td>\n",
       "      <td>833</td>\n",
       "      <td>2024-01-09 05:10:00</td>\n",
       "      <td>2024-01-11 04:10:00</td>\n",
       "      <td>True</td>\n",
       "    </tr>\n",
       "    <tr>\n",
       "      <th>1</th>\n",
       "      <td>False</td>\n",
       "      <td>flywire_fafb_production</td>\n",
       "      <td>822</td>\n",
       "      <td>AVAILABLE</td>\n",
       "      <td>832</td>\n",
       "      <td>2024-01-06 05:10:00</td>\n",
       "      <td>2024-01-13 04:10:00</td>\n",
       "      <td>True</td>\n",
       "    </tr>\n",
       "    <tr>\n",
       "      <th>2</th>\n",
       "      <td>False</td>\n",
       "      <td>flywire_fafb_production</td>\n",
       "      <td>820</td>\n",
       "      <td>AVAILABLE</td>\n",
       "      <td>830</td>\n",
       "      <td>2024-01-03 05:10:00</td>\n",
       "      <td>2024-02-07 04:10:00</td>\n",
       "      <td>True</td>\n",
       "    </tr>\n",
       "    <tr>\n",
       "      <th>3</th>\n",
       "      <td>False</td>\n",
       "      <td>flywire_fafb_production</td>\n",
       "      <td>813</td>\n",
       "      <td>AVAILABLE</td>\n",
       "      <td>823</td>\n",
       "      <td>2023-12-20 05:10:00</td>\n",
       "      <td>2024-01-17 04:10:00</td>\n",
       "      <td>True</td>\n",
       "    </tr>\n",
       "    <tr>\n",
       "      <th>4</th>\n",
       "      <td>False</td>\n",
       "      <td>flywire_fafb_production</td>\n",
       "      <td>773</td>\n",
       "      <td>AVAILABLE</td>\n",
       "      <td>783</td>\n",
       "      <td>2023-09-30 05:10:00</td>\n",
       "      <td>2121-11-10 07:10:00</td>\n",
       "      <td>True</td>\n",
       "    </tr>\n",
       "    <tr>\n",
       "      <th>5</th>\n",
       "      <td>True</td>\n",
       "      <td>flywire_fafb_production</td>\n",
       "      <td>619</td>\n",
       "      <td>AVAILABLE</td>\n",
       "      <td>630</td>\n",
       "      <td>2023-03-21 08:10:00</td>\n",
       "      <td>2121-11-10 07:10:00</td>\n",
       "      <td>True</td>\n",
       "    </tr>\n",
       "    <tr>\n",
       "      <th>6</th>\n",
       "      <td>True</td>\n",
       "      <td>flywire_fafb_production</td>\n",
       "      <td>560</td>\n",
       "      <td>AVAILABLE</td>\n",
       "      <td>571</td>\n",
       "      <td>2023-01-10 08:11:00</td>\n",
       "      <td>2121-11-10 07:10:00</td>\n",
       "      <td>True</td>\n",
       "    </tr>\n",
       "    <tr>\n",
       "      <th>7</th>\n",
       "      <td>True</td>\n",
       "      <td>flywire_fafb_production</td>\n",
       "      <td>515</td>\n",
       "      <td>AVAILABLE</td>\n",
       "      <td>526</td>\n",
       "      <td>2022-11-17 08:10:00</td>\n",
       "      <td>2121-11-10 07:10:00</td>\n",
       "      <td>True</td>\n",
       "    </tr>\n",
       "    <tr>\n",
       "      <th>8</th>\n",
       "      <td>True</td>\n",
       "      <td>flywire_fafb_production</td>\n",
       "      <td>247</td>\n",
       "      <td>AVAILABLE</td>\n",
       "      <td>258</td>\n",
       "      <td>2022-01-17 08:10:00</td>\n",
       "      <td>2121-02-18 08:10:00</td>\n",
       "      <td>True</td>\n",
       "    </tr>\n",
       "  </tbody>\n",
       "</table>\n",
       "</div>"
      ],
      "text/plain": [
       "   is_merged                datastack   id     status  version  \\\n",
       "0      False  flywire_fafb_production  823  AVAILABLE      833   \n",
       "1      False  flywire_fafb_production  822  AVAILABLE      832   \n",
       "2      False  flywire_fafb_production  820  AVAILABLE      830   \n",
       "3      False  flywire_fafb_production  813  AVAILABLE      823   \n",
       "4      False  flywire_fafb_production  773  AVAILABLE      783   \n",
       "5       True  flywire_fafb_production  619  AVAILABLE      630   \n",
       "6       True  flywire_fafb_production  560  AVAILABLE      571   \n",
       "7       True  flywire_fafb_production  515  AVAILABLE      526   \n",
       "8       True  flywire_fafb_production  247  AVAILABLE      258   \n",
       "\n",
       "           time_stamp          expires_on  valid  \n",
       "0 2024-01-09 05:10:00 2024-01-11 04:10:00   True  \n",
       "1 2024-01-06 05:10:00 2024-01-13 04:10:00   True  \n",
       "2 2024-01-03 05:10:00 2024-02-07 04:10:00   True  \n",
       "3 2023-12-20 05:10:00 2024-01-17 04:10:00   True  \n",
       "4 2023-09-30 05:10:00 2121-11-10 07:10:00   True  \n",
       "5 2023-03-21 08:10:00 2121-11-10 07:10:00   True  \n",
       "6 2023-01-10 08:11:00 2121-11-10 07:10:00   True  \n",
       "7 2022-11-17 08:10:00 2121-11-10 07:10:00   True  \n",
       "8 2022-01-17 08:10:00 2121-02-18 08:10:00   True  "
      ]
     },
     "execution_count": 2,
     "metadata": {},
     "output_type": "execute_result"
    }
   ],
   "source": [
    ">>> flywire.get_materialization_versions(dataset=\"production\")"
   ]
  },
  {
   "cell_type": "raw",
   "metadata": {},
   "source": [
    "Do the same for the public release - note that at the moment it contains only version 630."
   ]
  },
  {
   "cell_type": "code",
   "execution_count": 3,
   "metadata": {},
   "outputs": [
    {
     "data": {
      "text/html": [
       "<div>\n",
       "<style scoped>\n",
       "    .dataframe tbody tr th:only-of-type {\n",
       "        vertical-align: middle;\n",
       "    }\n",
       "\n",
       "    .dataframe tbody tr th {\n",
       "        vertical-align: top;\n",
       "    }\n",
       "\n",
       "    .dataframe thead th {\n",
       "        text-align: right;\n",
       "    }\n",
       "</style>\n",
       "<table border=\"1\" class=\"dataframe\">\n",
       "  <thead>\n",
       "    <tr style=\"text-align: right;\">\n",
       "      <th></th>\n",
       "      <th>is_merged</th>\n",
       "      <th>datastack</th>\n",
       "      <th>id</th>\n",
       "      <th>status</th>\n",
       "      <th>version</th>\n",
       "      <th>time_stamp</th>\n",
       "      <th>expires_on</th>\n",
       "      <th>valid</th>\n",
       "    </tr>\n",
       "  </thead>\n",
       "  <tbody>\n",
       "    <tr>\n",
       "      <th>0</th>\n",
       "      <td>True</td>\n",
       "      <td>flywire_fafb_public</td>\n",
       "      <td>718</td>\n",
       "      <td>AVAILABLE</td>\n",
       "      <td>630</td>\n",
       "      <td>2023-03-21 08:10:00</td>\n",
       "      <td>2121-11-10 07:10:00</td>\n",
       "      <td>True</td>\n",
       "    </tr>\n",
       "  </tbody>\n",
       "</table>\n",
       "</div>"
      ],
      "text/plain": [
       "   is_merged            datastack   id     status  version  \\\n",
       "0       True  flywire_fafb_public  718  AVAILABLE      630   \n",
       "\n",
       "           time_stamp          expires_on  valid  \n",
       "0 2023-03-21 08:10:00 2121-11-10 07:10:00   True  "
      ]
     },
     "execution_count": 3,
     "metadata": {},
     "output_type": "execute_result"
    }
   ],
   "source": [
    ">>> flywire.get_materialization_versions(dataset=\"public\")"
   ]
  },
  {
   "cell_type": "raw",
   "metadata": {
    "raw_mimetype": "text/restructuredtext",
    "tags": []
   },
   "source": [
    "For the production dataset only: we can also project the latest materialization\n",
    "into the now and get a \"live\" version for the current root IDs.\n",
    "\n",
    "As of version ``1.14.0``, ``fafbseg`` will try to automatically find a\n",
    "materialization that contains your query root IDs. In general, however, it's\n",
    "good practive to make sure that your query root IDs match one of the existing\n",
    "materialization versions.\n",
    "\n",
    "Let's use the public release data to explore this:"
   ]
  },
  {
   "cell_type": "code",
   "execution_count": 4,
   "metadata": {},
   "outputs": [
    {
     "name": "stdout",
     "output_type": "stream",
     "text": [
      "Default dataset set to \"public\"\n"
     ]
    }
   ],
   "source": [
    ">>> flywire.set_default_dataset(\"public\")"
   ]
  },
  {
   "cell_type": "raw",
   "metadata": {},
   "source": [
    "Synapses\n",
    "--------\n",
    "\n",
    "OK, let's start by fetching synapses for a given root ID"
   ]
  },
  {
   "cell_type": "code",
   "execution_count": 6,
   "metadata": {},
   "outputs": [
    {
     "name": "stdout",
     "output_type": "stream",
     "text": [
      "Using materialization version 630\n"
     ]
    },
    {
     "data": {
      "text/html": [
       "<div>\n",
       "<style scoped>\n",
       "    .dataframe tbody tr th:only-of-type {\n",
       "        vertical-align: middle;\n",
       "    }\n",
       "\n",
       "    .dataframe tbody tr th {\n",
       "        vertical-align: top;\n",
       "    }\n",
       "\n",
       "    .dataframe thead th {\n",
       "        text-align: right;\n",
       "    }\n",
       "</style>\n",
       "<table border=\"1\" class=\"dataframe\">\n",
       "  <thead>\n",
       "    <tr style=\"text-align: right;\">\n",
       "      <th></th>\n",
       "      <th>pre</th>\n",
       "      <th>post</th>\n",
       "      <th>cleft_score</th>\n",
       "      <th>pre_x</th>\n",
       "      <th>pre_y</th>\n",
       "      <th>pre_z</th>\n",
       "      <th>post_x</th>\n",
       "      <th>post_y</th>\n",
       "      <th>post_z</th>\n",
       "      <th>id</th>\n",
       "    </tr>\n",
       "  </thead>\n",
       "  <tbody>\n",
       "    <tr>\n",
       "      <th>0</th>\n",
       "      <td>720575940618561403</td>\n",
       "      <td>720575940625431866</td>\n",
       "      <td>144</td>\n",
       "      <td>479728</td>\n",
       "      <td>242036</td>\n",
       "      <td>23760</td>\n",
       "      <td>479856</td>\n",
       "      <td>242028</td>\n",
       "      <td>23760</td>\n",
       "      <td>56078503</td>\n",
       "    </tr>\n",
       "    <tr>\n",
       "      <th>1</th>\n",
       "      <td>720575940631121739</td>\n",
       "      <td>720575940625431866</td>\n",
       "      <td>63</td>\n",
       "      <td>475736</td>\n",
       "      <td>237908</td>\n",
       "      <td>21800</td>\n",
       "      <td>475716</td>\n",
       "      <td>237808</td>\n",
       "      <td>21760</td>\n",
       "      <td>111010940</td>\n",
       "    </tr>\n",
       "    <tr>\n",
       "      <th>2</th>\n",
       "      <td>720575940612003441</td>\n",
       "      <td>720575940625431866</td>\n",
       "      <td>142</td>\n",
       "      <td>437296</td>\n",
       "      <td>131392</td>\n",
       "      <td>185360</td>\n",
       "      <td>437408</td>\n",
       "      <td>131420</td>\n",
       "      <td>185400</td>\n",
       "      <td>183931595</td>\n",
       "    </tr>\n",
       "    <tr>\n",
       "      <th>3</th>\n",
       "      <td>720575940618654016</td>\n",
       "      <td>720575940625431866</td>\n",
       "      <td>144</td>\n",
       "      <td>348664</td>\n",
       "      <td>147136</td>\n",
       "      <td>162720</td>\n",
       "      <td>348688</td>\n",
       "      <td>147224</td>\n",
       "      <td>162720</td>\n",
       "      <td>24048637</td>\n",
       "    </tr>\n",
       "    <tr>\n",
       "      <th>4</th>\n",
       "      <td>720575940626518302</td>\n",
       "      <td>720575940625431866</td>\n",
       "      <td>129</td>\n",
       "      <td>485796</td>\n",
       "      <td>248296</td>\n",
       "      <td>28200</td>\n",
       "      <td>485840</td>\n",
       "      <td>248120</td>\n",
       "      <td>28280</td>\n",
       "      <td>3443470</td>\n",
       "    </tr>\n",
       "  </tbody>\n",
       "</table>\n",
       "</div>"
      ],
      "text/plain": [
       "                  pre                post  cleft_score   pre_x   pre_y  \\\n",
       "0  720575940618561403  720575940625431866          144  479728  242036   \n",
       "1  720575940631121739  720575940625431866           63  475736  237908   \n",
       "2  720575940612003441  720575940625431866          142  437296  131392   \n",
       "3  720575940618654016  720575940625431866          144  348664  147136   \n",
       "4  720575940626518302  720575940625431866          129  485796  248296   \n",
       "\n",
       "    pre_z  post_x  post_y  post_z         id  \n",
       "0   23760  479856  242028   23760   56078503  \n",
       "1   21800  475716  237808   21760  111010940  \n",
       "2  185360  437408  131420  185400  183931595  \n",
       "3  162720  348688  147224  162720   24048637  \n",
       "4   28200  485840  248120   28280    3443470  "
      ]
     },
     "execution_count": 6,
     "metadata": {},
     "output_type": "execute_result"
    }
   ],
   "source": [
    ">>> syn = flywire.get_synapses(\n",
    "...     720575940625431866,\n",
    "...     materialization=\"auto\"  # \"auto\" is the default value\n",
    "... )\n",
    ">>> syn.head()"
   ]
  },
  {
   "cell_type": "raw",
   "metadata": {
    "raw_mimetype": "text/restructuredtext",
    "tags": []
   },
   "source": [
    "Note how it says \"Using materialization version 630\" - that's because this is the\n",
    "only available materialization for the public release. If you try to query\n",
    "root IDs that did not exist at this materialization it will complain!\n",
    "\n",
    "We can also force a query against the live data. Note that this will be\n",
    "considerably slower than queries against a materialized table! Importantly, this\n",
    "only works with if you have access to the production dataset."
   ]
  },
  {
   "cell_type": "code",
   "execution_count": 8,
   "metadata": {},
   "outputs": [
    {
     "data": {
      "text/html": [
       "<div>\n",
       "<style scoped>\n",
       "    .dataframe tbody tr th:only-of-type {\n",
       "        vertical-align: middle;\n",
       "    }\n",
       "\n",
       "    .dataframe tbody tr th {\n",
       "        vertical-align: top;\n",
       "    }\n",
       "\n",
       "    .dataframe thead th {\n",
       "        text-align: right;\n",
       "    }\n",
       "</style>\n",
       "<table border=\"1\" class=\"dataframe\">\n",
       "  <thead>\n",
       "    <tr style=\"text-align: right;\">\n",
       "      <th></th>\n",
       "      <th>pre</th>\n",
       "      <th>post</th>\n",
       "      <th>cleft_score</th>\n",
       "      <th>pre_x</th>\n",
       "      <th>pre_y</th>\n",
       "      <th>pre_z</th>\n",
       "      <th>post_x</th>\n",
       "      <th>post_y</th>\n",
       "      <th>post_z</th>\n",
       "      <th>id</th>\n",
       "    </tr>\n",
       "  </thead>\n",
       "  <tbody>\n",
       "    <tr>\n",
       "      <th>0</th>\n",
       "      <td>720575940614727903</td>\n",
       "      <td>720575940625431866</td>\n",
       "      <td>0</td>\n",
       "      <td>503800</td>\n",
       "      <td>205396</td>\n",
       "      <td>32840</td>\n",
       "      <td>503672</td>\n",
       "      <td>205416</td>\n",
       "      <td>32800</td>\n",
       "      <td>71828773</td>\n",
       "    </tr>\n",
       "    <tr>\n",
       "      <th>1</th>\n",
       "      <td>720575940633938349</td>\n",
       "      <td>720575940625431866</td>\n",
       "      <td>41</td>\n",
       "      <td>486888</td>\n",
       "      <td>246616</td>\n",
       "      <td>33240</td>\n",
       "      <td>486868</td>\n",
       "      <td>246484</td>\n",
       "      <td>33240</td>\n",
       "      <td>71914527</td>\n",
       "    </tr>\n",
       "    <tr>\n",
       "      <th>2</th>\n",
       "      <td>720575940631975884</td>\n",
       "      <td>720575940625431866</td>\n",
       "      <td>83</td>\n",
       "      <td>480208</td>\n",
       "      <td>244212</td>\n",
       "      <td>30080</td>\n",
       "      <td>480144</td>\n",
       "      <td>244384</td>\n",
       "      <td>30040</td>\n",
       "      <td>191440776</td>\n",
       "    </tr>\n",
       "    <tr>\n",
       "      <th>3</th>\n",
       "      <td>720575940617537570</td>\n",
       "      <td>720575940625431866</td>\n",
       "      <td>166</td>\n",
       "      <td>480960</td>\n",
       "      <td>242752</td>\n",
       "      <td>23840</td>\n",
       "      <td>481092</td>\n",
       "      <td>242724</td>\n",
       "      <td>23800</td>\n",
       "      <td>56078511</td>\n",
       "    </tr>\n",
       "    <tr>\n",
       "      <th>4</th>\n",
       "      <td>720575940613489617</td>\n",
       "      <td>720575940625431866</td>\n",
       "      <td>142</td>\n",
       "      <td>475384</td>\n",
       "      <td>235384</td>\n",
       "      <td>25960</td>\n",
       "      <td>475496</td>\n",
       "      <td>235376</td>\n",
       "      <td>25960</td>\n",
       "      <td>52231029</td>\n",
       "    </tr>\n",
       "  </tbody>\n",
       "</table>\n",
       "</div>"
      ],
      "text/plain": [
       "                  pre                post  cleft_score   pre_x   pre_y  pre_z  \\\n",
       "0  720575940614727903  720575940625431866            0  503800  205396  32840   \n",
       "1  720575940633938349  720575940625431866           41  486888  246616  33240   \n",
       "2  720575940631975884  720575940625431866           83  480208  244212  30080   \n",
       "3  720575940617537570  720575940625431866          166  480960  242752  23840   \n",
       "4  720575940613489617  720575940625431866          142  475384  235384  25960   \n",
       "\n",
       "   post_x  post_y  post_z         id  \n",
       "0  503672  205416   32800   71828773  \n",
       "1  486868  246484   33240   71914527  \n",
       "2  480144  244384   30040  191440776  \n",
       "3  481092  242724   23800   56078511  \n",
       "4  475496  235376   25960   52231029  "
      ]
     },
     "execution_count": 8,
     "metadata": {},
     "output_type": "execute_result"
    }
   ],
   "source": [
    ">>> syn_live = flywire.get_synapses(\n",
    "...     720575940625431866, materialization=\"live\", filtered=False, dataset=\"production\"\n",
    "... )\n",
    ">>> syn_live.head()"
   ]
  },
  {
   "cell_type": "raw",
   "metadata": {
    "raw_mimetype": "text/restructuredtext",
    "tags": []
   },
   "source": [
    "Using a root ID that has no materialization, or multiple root IDs that don't\n",
    "have any materialization in common results in an error:"
   ]
  },
  {
   "cell_type": "code",
   "execution_count": 10,
   "metadata": {},
   "outputs": [
    {
     "ename": "ValueError",
     "evalue": "Given root IDs do not co-exist in any of the available public materialization versions. Please make sure that the root IDs do exist and rerun your query.",
     "output_type": "error",
     "traceback": [
      "\u001b[0;31m---------------------------------------------------------------------------\u001b[0m",
      "\u001b[0;31mValueError\u001b[0m                                Traceback (most recent call last)",
      "Cell \u001b[0;32mIn[10], line 3\u001b[0m\n\u001b[1;32m      1\u001b[0m \u001b[38;5;66;03m# These are two root IDs for the same neuron (one old, one current)\u001b[39;00m\n\u001b[1;32m      2\u001b[0m \u001b[38;5;66;03m# THIS IS EXPECTED TO FAIL!\u001b[39;00m\n\u001b[0;32m----> 3\u001b[0m syn \u001b[38;5;241m=\u001b[39m \u001b[43mflywire\u001b[49m\u001b[38;5;241;43m.\u001b[39;49m\u001b[43mget_synapses\u001b[49m\u001b[43m(\u001b[49m\u001b[43m[\u001b[49m\u001b[38;5;241;43m720575940618984129\u001b[39;49m\u001b[43m,\u001b[49m\u001b[43m \u001b[49m\u001b[38;5;241;43m720575940620240833\u001b[39;49m\u001b[43m]\u001b[49m\u001b[43m,\u001b[49m\u001b[43m \u001b[49m\u001b[43mmaterialization\u001b[49m\u001b[38;5;241;43m=\u001b[39;49m\u001b[38;5;124;43m\"\u001b[39;49m\u001b[38;5;124;43mauto\u001b[39;49m\u001b[38;5;124;43m\"\u001b[39;49m\u001b[43m)\u001b[49m\n",
      "File \u001b[0;32m~/Google Drive/Cloudbox/Github/fafbseg-py/fafbseg/flywire/annotations.py:122\u001b[0m, in \u001b[0;36mparse_neuroncriteria.<locals>.outer.<locals>.inner\u001b[0;34m(*args, **kwargs)\u001b[0m\n\u001b[1;32m    120\u001b[0m         kwargs[key] \u001b[38;5;241m=\u001b[39m nc\u001b[38;5;241m.\u001b[39mget_roots()\n\u001b[1;32m    121\u001b[0m \u001b[38;5;28;01mtry\u001b[39;00m:\n\u001b[0;32m--> 122\u001b[0m     \u001b[38;5;28;01mreturn\u001b[39;00m \u001b[43mfunc\u001b[49m\u001b[43m(\u001b[49m\u001b[38;5;241;43m*\u001b[39;49m\u001b[43margs\u001b[49m\u001b[43m,\u001b[49m\u001b[43m \u001b[49m\u001b[38;5;241;43m*\u001b[39;49m\u001b[38;5;241;43m*\u001b[39;49m\u001b[43mkwargs\u001b[49m\u001b[43m)\u001b[49m\n\u001b[1;32m    123\u001b[0m \u001b[38;5;28;01mexcept\u001b[39;00m NoMatchesError \u001b[38;5;28;01mas\u001b[39;00m e:\n\u001b[1;32m    124\u001b[0m     \u001b[38;5;28;01mif\u001b[39;00m allow_empty:\n",
      "File \u001b[0;32m~/Google Drive/Cloudbox/Github/fafbseg-py/fafbseg/flywire/utils.py:166\u001b[0m, in \u001b[0;36minject_dataset.<locals>.outer.<locals>.inner\u001b[0;34m(*args, **kwargs)\u001b[0m\n\u001b[1;32m    164\u001b[0m \u001b[38;5;28;01mif\u001b[39;00m disallowed \u001b[38;5;129;01mand\u001b[39;00m ds \u001b[38;5;129;01min\u001b[39;00m disallowed:\n\u001b[1;32m    165\u001b[0m     \u001b[38;5;28;01mraise\u001b[39;00m \u001b[38;5;167;01mValueError\u001b[39;00m(\u001b[38;5;124mf\u001b[39m\u001b[38;5;124m'\u001b[39m\u001b[38;5;124mDataset \u001b[39m\u001b[38;5;124m\"\u001b[39m\u001b[38;5;132;01m{\u001b[39;00mds\u001b[38;5;132;01m}\u001b[39;00m\u001b[38;5;124m\"\u001b[39m\u001b[38;5;124m not allowed for function \u001b[39m\u001b[38;5;132;01m{\u001b[39;00mfunc\u001b[38;5;132;01m}\u001b[39;00m\u001b[38;5;124m.\u001b[39m\u001b[38;5;124m'\u001b[39m)\n\u001b[0;32m--> 166\u001b[0m \u001b[38;5;28;01mreturn\u001b[39;00m \u001b[43mfunc\u001b[49m\u001b[43m(\u001b[49m\u001b[38;5;241;43m*\u001b[39;49m\u001b[43margs\u001b[49m\u001b[43m,\u001b[49m\u001b[43m \u001b[49m\u001b[38;5;241;43m*\u001b[39;49m\u001b[38;5;241;43m*\u001b[39;49m\u001b[43mkwargs\u001b[49m\u001b[43m)\u001b[49m\n",
      "File \u001b[0;32m~/Google Drive/Cloudbox/Github/fafbseg-py/fafbseg/flywire/synapses.py:466\u001b[0m, in \u001b[0;36mget_synapses\u001b[0;34m(x, pre, post, attach, filtered, min_score, transmitters, neuropils, clean, materialization, batch_size, dataset, progress)\u001b[0m\n\u001b[1;32m    463\u001b[0m     materialization \u001b[38;5;241m=\u001b[39m client\u001b[38;5;241m.\u001b[39mmaterialize\u001b[38;5;241m.\u001b[39mmost_recent_version()\n\u001b[1;32m    465\u001b[0m \u001b[38;5;28;01mif\u001b[39;00m materialization \u001b[38;5;241m==\u001b[39m \u001b[38;5;124m\"\u001b[39m\u001b[38;5;124mauto\u001b[39m\u001b[38;5;124m\"\u001b[39m:\n\u001b[0;32m--> 466\u001b[0m     materialization \u001b[38;5;241m=\u001b[39m \u001b[43mfind_mat_version\u001b[49m\u001b[43m(\u001b[49m\u001b[43mids\u001b[49m\u001b[43m,\u001b[49m\u001b[43m \u001b[49m\u001b[43mdataset\u001b[49m\u001b[38;5;241;43m=\u001b[39;49m\u001b[43mdataset\u001b[49m\u001b[43m,\u001b[49m\u001b[43m \u001b[49m\u001b[43mverbose\u001b[49m\u001b[38;5;241;43m=\u001b[39;49m\u001b[43mprogress\u001b[49m\u001b[43m)\u001b[49m\n\u001b[1;32m    467\u001b[0m \u001b[38;5;28;01melse\u001b[39;00m:\n\u001b[1;32m    468\u001b[0m     _check_ids(ids, materialization\u001b[38;5;241m=\u001b[39mmaterialization, dataset\u001b[38;5;241m=\u001b[39mdataset)\n",
      "File \u001b[0;32m~/Google Drive/Cloudbox/Github/fafbseg-py/fafbseg/flywire/utils.py:707\u001b[0m, in \u001b[0;36mfind_mat_version\u001b[0;34m(ids, verbose, allow_multiple, raise_missing, dataset)\u001b[0m\n\u001b[1;32m    703\u001b[0m     \u001b[38;5;28;01mraise\u001b[39;00m \u001b[38;5;167;01mValueError\u001b[39;00m(\u001b[38;5;124m'\u001b[39m\u001b[38;5;124mGiven root IDs do not co-exist in any of the available \u001b[39m\u001b[38;5;124m'\u001b[39m\n\u001b[1;32m    704\u001b[0m                     \u001b[38;5;124m'\u001b[39m\u001b[38;5;124mmaterialization versions (including live). Try updating \u001b[39m\u001b[38;5;124m'\u001b[39m\n\u001b[1;32m    705\u001b[0m                     \u001b[38;5;124m'\u001b[39m\u001b[38;5;124mroot IDs and rerun your query.\u001b[39m\u001b[38;5;124m'\u001b[39m)\n\u001b[1;32m    706\u001b[0m \u001b[38;5;28;01melse\u001b[39;00m:\n\u001b[0;32m--> 707\u001b[0m     \u001b[38;5;28;01mraise\u001b[39;00m \u001b[38;5;167;01mValueError\u001b[39;00m(\u001b[38;5;124m'\u001b[39m\u001b[38;5;124mGiven root IDs do not co-exist in any of the available \u001b[39m\u001b[38;5;124m'\u001b[39m\n\u001b[1;32m    708\u001b[0m                     \u001b[38;5;124m'\u001b[39m\u001b[38;5;124mpublic materialization versions. Please make sure that \u001b[39m\u001b[38;5;124m'\u001b[39m\n\u001b[1;32m    709\u001b[0m                     \u001b[38;5;124m'\u001b[39m\u001b[38;5;124mthe root IDs do exist and rerun your query.\u001b[39m\u001b[38;5;124m'\u001b[39m)\n",
      "\u001b[0;31mValueError\u001b[0m: Given root IDs do not co-exist in any of the available public materialization versions. Please make sure that the root IDs do exist and rerun your query."
     ]
    }
   ],
   "source": [
    ">>> # These are two root IDs for the same neuron (one old, one current)\n",
    ">>> # THIS IS EXPECTED TO FAIL!\n",
    ">>> syn = flywire.get_synapses([720575940618984129, 720575940620240833], materialization=\"auto\")"
   ]
  },
  {
   "cell_type": "raw",
   "metadata": {
    "raw_mimetype": "text/restructuredtext",
    "tags": []
   },
   "source": [
    "See the last line in the error message? It tells you that these IDs never\n",
    "co-existed and hence can not be queried together.\n",
    "\n",
    "Instead of using \"auto\" you can also provide a specific materialization version.\n",
    "In that case you will get a warning if your queries don't match the materialization\n",
    "but it won't throw an exception:"
   ]
  },
  {
   "cell_type": "code",
   "execution_count": 11,
   "metadata": {},
   "outputs": [
    {
     "name": "stdout",
     "output_type": "stream",
     "text": [
      "Some root IDs were already outdated at materialization 630 and synapse/connectivity data will be inaccurrate:\n",
      "\n",
      " 720575940620240833\n",
      "\n",
      "Try updating the root IDs using `flywire.update_ids` or `flywire.supervoxels_to_roots` if you have supervoxel IDs, or pick a different materialization version.\n"
     ]
    },
    {
     "data": {
      "text/html": [
       "<div>\n",
       "<style scoped>\n",
       "    .dataframe tbody tr th:only-of-type {\n",
       "        vertical-align: middle;\n",
       "    }\n",
       "\n",
       "    .dataframe tbody tr th {\n",
       "        vertical-align: top;\n",
       "    }\n",
       "\n",
       "    .dataframe thead th {\n",
       "        text-align: right;\n",
       "    }\n",
       "</style>\n",
       "<table border=\"1\" class=\"dataframe\">\n",
       "  <thead>\n",
       "    <tr style=\"text-align: right;\">\n",
       "      <th></th>\n",
       "      <th>pre</th>\n",
       "      <th>post</th>\n",
       "      <th>cleft_score</th>\n",
       "      <th>pre_x</th>\n",
       "      <th>pre_y</th>\n",
       "      <th>pre_z</th>\n",
       "      <th>post_x</th>\n",
       "      <th>post_y</th>\n",
       "      <th>post_z</th>\n",
       "      <th>id</th>\n",
       "    </tr>\n",
       "  </thead>\n",
       "  <tbody>\n",
       "  </tbody>\n",
       "</table>\n",
       "</div>"
      ],
      "text/plain": [
       "Empty DataFrame\n",
       "Columns: [pre, post, cleft_score, pre_x, pre_y, pre_z, post_x, post_y, post_z, id]\n",
       "Index: []"
      ]
     },
     "execution_count": 11,
     "metadata": {},
     "output_type": "execute_result"
    }
   ],
   "source": [
    ">>> syn = flywire.get_synapses(720575940620240833, materialization=630)\n",
    ">>> syn.head()"
   ]
  },
  {
   "cell_type": "raw",
   "metadata": {
    "raw_mimetype": "text/restructuredtext",
    "tags": []
   },
   "source": [
    "Note that in this example we got an empty dataframe because the root ID didn't\n",
    "exist at that specific materialization!\n",
    "\n",
    "See :func:`fafbseg.flywire.is_latest_root` and :func:`fafbseg.flywire.update_ids`\n",
    "for mapping root IDs to materializations:"
   ]
  },
  {
   "cell_type": "code",
   "execution_count": 12,
   "metadata": {},
   "outputs": [
    {
     "data": {
      "text/html": [
       "<div>\n",
       "<style scoped>\n",
       "    .dataframe tbody tr th:only-of-type {\n",
       "        vertical-align: middle;\n",
       "    }\n",
       "\n",
       "    .dataframe tbody tr th {\n",
       "        vertical-align: top;\n",
       "    }\n",
       "\n",
       "    .dataframe thead th {\n",
       "        text-align: right;\n",
       "    }\n",
       "</style>\n",
       "<table border=\"1\" class=\"dataframe\">\n",
       "  <thead>\n",
       "    <tr style=\"text-align: right;\">\n",
       "      <th></th>\n",
       "      <th>old_id</th>\n",
       "      <th>new_id</th>\n",
       "      <th>confidence</th>\n",
       "      <th>changed</th>\n",
       "    </tr>\n",
       "  </thead>\n",
       "  <tbody>\n",
       "    <tr>\n",
       "      <th>0</th>\n",
       "      <td>720575940620240833</td>\n",
       "      <td>720575940622894616</td>\n",
       "      <td>0.991647</td>\n",
       "      <td>True</td>\n",
       "    </tr>\n",
       "  </tbody>\n",
       "</table>\n",
       "</div>"
      ],
      "text/plain": [
       "               old_id              new_id  confidence  changed\n",
       "0  720575940620240833  720575940622894616    0.991647     True"
      ]
     },
     "execution_count": 12,
     "metadata": {},
     "output_type": "execute_result"
    }
   ],
   "source": [
    ">>> # Search for this neuron's ID at materialization 630 (public release version)\n",
    ">>> new_id = flywire.update_ids(720575940620240833, timestamp=\"mat_630\")\n",
    ">>> new_id"
   ]
  },
  {
   "cell_type": "raw",
   "metadata": {
    "raw_mimetype": "text/restructuredtext",
    "tags": []
   },
   "source": [
    "With the new up-to-date root ID, the query will work as expected:"
   ]
  },
  {
   "cell_type": "code",
   "execution_count": 13,
   "metadata": {},
   "outputs": [
    {
     "name": "stdout",
     "output_type": "stream",
     "text": [
      "Using materialization version 630\n"
     ]
    },
    {
     "data": {
      "text/html": [
       "<div>\n",
       "<style scoped>\n",
       "    .dataframe tbody tr th:only-of-type {\n",
       "        vertical-align: middle;\n",
       "    }\n",
       "\n",
       "    .dataframe tbody tr th {\n",
       "        vertical-align: top;\n",
       "    }\n",
       "\n",
       "    .dataframe thead th {\n",
       "        text-align: right;\n",
       "    }\n",
       "</style>\n",
       "<table border=\"1\" class=\"dataframe\">\n",
       "  <thead>\n",
       "    <tr style=\"text-align: right;\">\n",
       "      <th></th>\n",
       "      <th>pre</th>\n",
       "      <th>post</th>\n",
       "      <th>cleft_score</th>\n",
       "      <th>pre_x</th>\n",
       "      <th>pre_y</th>\n",
       "      <th>pre_z</th>\n",
       "      <th>post_x</th>\n",
       "      <th>post_y</th>\n",
       "      <th>post_z</th>\n",
       "      <th>id</th>\n",
       "    </tr>\n",
       "  </thead>\n",
       "  <tbody>\n",
       "    <tr>\n",
       "      <th>0</th>\n",
       "      <td>720575940627172100</td>\n",
       "      <td>720575940622894616</td>\n",
       "      <td>142</td>\n",
       "      <td>384712</td>\n",
       "      <td>159552</td>\n",
       "      <td>184160</td>\n",
       "      <td>384840</td>\n",
       "      <td>159424</td>\n",
       "      <td>184200</td>\n",
       "      <td>166252986</td>\n",
       "    </tr>\n",
       "    <tr>\n",
       "      <th>1</th>\n",
       "      <td>720575940634147936</td>\n",
       "      <td>720575940622894616</td>\n",
       "      <td>135</td>\n",
       "      <td>386928</td>\n",
       "      <td>156476</td>\n",
       "      <td>181800</td>\n",
       "      <td>386904</td>\n",
       "      <td>156556</td>\n",
       "      <td>181840</td>\n",
       "      <td>155850631</td>\n",
       "    </tr>\n",
       "    <tr>\n",
       "      <th>2</th>\n",
       "      <td>720575940632826925</td>\n",
       "      <td>720575940622894616</td>\n",
       "      <td>144</td>\n",
       "      <td>341452</td>\n",
       "      <td>147360</td>\n",
       "      <td>173040</td>\n",
       "      <td>341424</td>\n",
       "      <td>147504</td>\n",
       "      <td>173040</td>\n",
       "      <td>228310877</td>\n",
       "    </tr>\n",
       "    <tr>\n",
       "      <th>3</th>\n",
       "      <td>720575940608970197</td>\n",
       "      <td>720575940622894616</td>\n",
       "      <td>116</td>\n",
       "      <td>351400</td>\n",
       "      <td>163320</td>\n",
       "      <td>187320</td>\n",
       "      <td>351492</td>\n",
       "      <td>163280</td>\n",
       "      <td>187360</td>\n",
       "      <td>66153949</td>\n",
       "    </tr>\n",
       "    <tr>\n",
       "      <th>4</th>\n",
       "      <td>720575940624632247</td>\n",
       "      <td>720575940622894616</td>\n",
       "      <td>145</td>\n",
       "      <td>358000</td>\n",
       "      <td>145404</td>\n",
       "      <td>163080</td>\n",
       "      <td>357864</td>\n",
       "      <td>145396</td>\n",
       "      <td>163080</td>\n",
       "      <td>87457018</td>\n",
       "    </tr>\n",
       "  </tbody>\n",
       "</table>\n",
       "</div>"
      ],
      "text/plain": [
       "                  pre                post  cleft_score   pre_x   pre_y  \\\n",
       "0  720575940627172100  720575940622894616          142  384712  159552   \n",
       "1  720575940634147936  720575940622894616          135  386928  156476   \n",
       "2  720575940632826925  720575940622894616          144  341452  147360   \n",
       "3  720575940608970197  720575940622894616          116  351400  163320   \n",
       "4  720575940624632247  720575940622894616          145  358000  145404   \n",
       "\n",
       "    pre_z  post_x  post_y  post_z         id  \n",
       "0  184160  384840  159424  184200  166252986  \n",
       "1  181800  386904  156556  181840  155850631  \n",
       "2  173040  341424  147504  173040  228310877  \n",
       "3  187320  351492  163280  187360   66153949  \n",
       "4  163080  357864  145396  163080   87457018  "
      ]
     },
     "execution_count": 13,
     "metadata": {},
     "output_type": "execute_result"
    }
   ],
   "source": [
    ">>> syn = flywire.get_synapses(720575940622894616)\n",
    ">>> syn.head()"
   ]
  },
  {
   "cell_type": "raw",
   "metadata": {},
   "source": [
    "Alternatively: if you keep track of your neurons via x/y/z coordinates or\n",
    "supervoxel IDs, you can also use the ``timestamp`` parameter in e.g.\n",
    ":func:`fafbseg.flywire.supervoxels_to_roots` to get the root IDs at the same\n",
    "time as one of the materializiations. This can be slightly faster than live\n",
    "queries.\n",
    "\n",
    ".. important:\n",
    "    As of ``fafbseg`` ``2.0.0`` we have changed the defaults for all\n",
    "    synapse/connectivity related functions such that we will by default query the\n",
    "    _filtered_ synapse table. This does two things:\n",
    "\n",
    "    1. Deduplication of synapses\n",
    "    2. A default cleft score threshold of 50\n",
    "\n",
    "    See also the official `explanation <https://prod.flywire-daf.com/annotation/views/aligned_volume/fafb_seung_alignment_v0/table/valid_synapses_nt_v2?middle_auth_url=global.daf-apis.com%2Fsticky_auth#>`_.\n",
    "\n",
    "    If you have access to the production dataset you can change the parameters\n",
    "    (notably ``filtered`` and ``min_score``) to query the raw synapse table but\n",
    "    note that the filtered connectivity is the canonical reference, i.e. what's used\n",
    "    for analysis in the FlyWire papers!\n",
    "\n",
    "Neurons & synapses\n",
    "******************\n",
    "\n",
    "You find yourself wanting to associate synapses with the neuron's skeleton or\n",
    "mesh - e.g. for plotting or analyses. Here's how you would do that:"
   ]
  },
  {
   "cell_type": "code",
   "execution_count": 14,
   "metadata": {},
   "outputs": [],
   "source": [
    ">>> # Fetch a skeleton\n",
    ">>> sk = flywire.get_skeletons(720575940625431866)\n",
    ">>> # The skeleton does not yet have any synapse data associated with it\n",
    ">>> sk.connectors"
   ]
  },
  {
   "cell_type": "raw",
   "metadata": {},
   "source": [
    "To fetch the neuron's synapses and attach them to the skeleton you can do this:"
   ]
  },
  {
   "cell_type": "code",
   "execution_count": 15,
   "metadata": {},
   "outputs": [
    {
     "name": "stdout",
     "output_type": "stream",
     "text": [
      "Using materialization version 630\n"
     ]
    },
    {
     "data": {
      "text/html": [
       "<div>\n",
       "<style scoped>\n",
       "    .dataframe tbody tr th:only-of-type {\n",
       "        vertical-align: middle;\n",
       "    }\n",
       "\n",
       "    .dataframe tbody tr th {\n",
       "        vertical-align: top;\n",
       "    }\n",
       "\n",
       "    .dataframe thead th {\n",
       "        text-align: right;\n",
       "    }\n",
       "</style>\n",
       "<table border=\"1\" class=\"dataframe\">\n",
       "  <thead>\n",
       "    <tr style=\"text-align: right;\">\n",
       "      <th></th>\n",
       "      <th>connector_id</th>\n",
       "      <th>x</th>\n",
       "      <th>y</th>\n",
       "      <th>z</th>\n",
       "      <th>cleft_score</th>\n",
       "      <th>partner_id</th>\n",
       "      <th>type</th>\n",
       "      <th>node_id</th>\n",
       "    </tr>\n",
       "  </thead>\n",
       "  <tbody>\n",
       "    <tr>\n",
       "      <th>0</th>\n",
       "      <td>0</td>\n",
       "      <td>378580</td>\n",
       "      <td>141040</td>\n",
       "      <td>176720</td>\n",
       "      <td>151</td>\n",
       "      <td>720575940486790143</td>\n",
       "      <td>pre</td>\n",
       "      <td>324</td>\n",
       "    </tr>\n",
       "    <tr>\n",
       "      <th>1</th>\n",
       "      <td>1</td>\n",
       "      <td>448544</td>\n",
       "      <td>121840</td>\n",
       "      <td>192120</td>\n",
       "      <td>161</td>\n",
       "      <td>720575940617293396</td>\n",
       "      <td>pre</td>\n",
       "      <td>706</td>\n",
       "    </tr>\n",
       "    <tr>\n",
       "      <th>2</th>\n",
       "      <td>2</td>\n",
       "      <td>449832</td>\n",
       "      <td>122628</td>\n",
       "      <td>195640</td>\n",
       "      <td>157</td>\n",
       "      <td>720575940659323009</td>\n",
       "      <td>pre</td>\n",
       "      <td>704</td>\n",
       "    </tr>\n",
       "    <tr>\n",
       "      <th>3</th>\n",
       "      <td>3</td>\n",
       "      <td>446608</td>\n",
       "      <td>124216</td>\n",
       "      <td>195760</td>\n",
       "      <td>151</td>\n",
       "      <td>720575940659323009</td>\n",
       "      <td>pre</td>\n",
       "      <td>652</td>\n",
       "    </tr>\n",
       "    <tr>\n",
       "      <th>4</th>\n",
       "      <td>4</td>\n",
       "      <td>361652</td>\n",
       "      <td>129832</td>\n",
       "      <td>159520</td>\n",
       "      <td>61</td>\n",
       "      <td>720575940532780653</td>\n",
       "      <td>pre</td>\n",
       "      <td>265</td>\n",
       "    </tr>\n",
       "  </tbody>\n",
       "</table>\n",
       "</div>"
      ],
      "text/plain": [
       "   connector_id       x       y       z  cleft_score          partner_id type  \\\n",
       "0             0  378580  141040  176720          151  720575940486790143  pre   \n",
       "1             1  448544  121840  192120          161  720575940617293396  pre   \n",
       "2             2  449832  122628  195640          157  720575940659323009  pre   \n",
       "3             3  446608  124216  195760          151  720575940659323009  pre   \n",
       "4             4  361652  129832  159520           61  720575940532780653  pre   \n",
       "\n",
       "   node_id  \n",
       "0      324  \n",
       "1      706  \n",
       "2      704  \n",
       "3      652  \n",
       "4      265  "
      ]
     },
     "execution_count": 15,
     "metadata": {},
     "output_type": "execute_result"
    }
   ],
   "source": [
    ">>> flywire.get_synapses(sk, attach=True)\n",
    ">>> # Now the neuron has a connector table\n",
    ">>> sk.connectors.head()"
   ]
  },
  {
   "cell_type": "raw",
   "metadata": {},
   "source": [
    "Let's illustrate by plotting the skeleton plus its synapses:"
   ]
  },
  {
   "cell_type": "code",
   "execution_count": 30,
   "metadata": {},
   "outputs": [
    {
     "data": {
      "image/png": "[encoded data removed]",
      "text/plain": [
       "<Figure size 518.4x518.4 with 1 Axes>"
      ]
     },
     "metadata": {
      "needs_background": "light"
     },
     "output_type": "display_data"
    }
   ],
   "source": [
    ">>> import navis\n",
    ">>> # Presynapses are red; postsynapses are light blue\n",
    ">>> fig, ax = navis.plot2d(sk, connectors=True, color='lightgrey')"
   ]
  },
  {
   "cell_type": "raw",
   "metadata": {},
   "source": [
    "Connections\n",
    "-----------\n",
    "Above you learned how to fetch individual synapses. You could distil those into\n",
    "an edge list by aggregating over the pre- and postsynaptic root IDs but that's\n",
    "rather tedious. Fortunately, there is an easier (and faster) way of doing it:"
   ]
  },
  {
   "cell_type": "code",
   "execution_count": 16,
   "metadata": {},
   "outputs": [
    {
     "name": "stdout",
     "output_type": "stream",
     "text": [
      "Using materialization version 630\n"
     ]
    },
    {
     "data": {
      "text/html": [
       "<div>\n",
       "<style scoped>\n",
       "    .dataframe tbody tr th:only-of-type {\n",
       "        vertical-align: middle;\n",
       "    }\n",
       "\n",
       "    .dataframe tbody tr th {\n",
       "        vertical-align: top;\n",
       "    }\n",
       "\n",
       "    .dataframe thead th {\n",
       "        text-align: right;\n",
       "    }\n",
       "</style>\n",
       "<table border=\"1\" class=\"dataframe\">\n",
       "  <thead>\n",
       "    <tr style=\"text-align: right;\">\n",
       "      <th></th>\n",
       "      <th>pre</th>\n",
       "      <th>post</th>\n",
       "      <th>weight</th>\n",
       "    </tr>\n",
       "  </thead>\n",
       "  <tbody>\n",
       "    <tr>\n",
       "      <th>0</th>\n",
       "      <td>720575940611174702</td>\n",
       "      <td>720575940630066007</td>\n",
       "      <td>104</td>\n",
       "    </tr>\n",
       "    <tr>\n",
       "      <th>1</th>\n",
       "      <td>720575940611174702</td>\n",
       "      <td>720575940621239679</td>\n",
       "      <td>89</td>\n",
       "    </tr>\n",
       "    <tr>\n",
       "      <th>2</th>\n",
       "      <td>720575940619061662</td>\n",
       "      <td>720575940630066007</td>\n",
       "      <td>81</td>\n",
       "    </tr>\n",
       "    <tr>\n",
       "      <th>3</th>\n",
       "      <td>720575940611174702</td>\n",
       "      <td>720575940637469254</td>\n",
       "      <td>78</td>\n",
       "    </tr>\n",
       "    <tr>\n",
       "      <th>4</th>\n",
       "      <td>720575940611174702</td>\n",
       "      <td>720575940604407468</td>\n",
       "      <td>75</td>\n",
       "    </tr>\n",
       "  </tbody>\n",
       "</table>\n",
       "</div>"
      ],
      "text/plain": [
       "                  pre                post  weight\n",
       "0  720575940611174702  720575940630066007     104\n",
       "1  720575940611174702  720575940621239679      89\n",
       "2  720575940619061662  720575940630066007      81\n",
       "3  720575940611174702  720575940637469254      78\n",
       "4  720575940611174702  720575940604407468      75"
      ]
     },
     "execution_count": 16,
     "metadata": {},
     "output_type": "execute_result"
    }
   ],
   "source": [
    ">>> # These are current root IDs of RHS DA1 uPNs\n",
    ">>> da1_roots = [\n",
    "...     720575940604407468,\n",
    "...     720575940623543881,\n",
    "...     720575940637469254,\n",
    "...     720575940617229632,\n",
    "...     720575940621239679,\n",
    "...     720575940623303108,\n",
    "...     720575940630066007,\n",
    "... ]\n",
    "\n",
    ">>> # Get the partners for these neurons\n",
    ">>> edge_list = flywire.get_connectivity(da1_roots)\n",
    ">>> edge_list.head()"
   ]
  },
  {
   "cell_type": "raw",
   "metadata": {
    "raw_mimetype": "text/restructuredtext",
    "tags": []
   },
   "source": [
    ".. note::\n",
    "    You can also use :class:`~fafbseg.flywire.NeuronCriteria` to work with\n",
    "    annotations instead of passing root IDs directly. See the\n",
    "    :ref:`annotation tutorial<flywire_annotations>` for details.\n",
    "\n",
    "Generate a neuroglancer link with the top 30 downstream partners:"
   ]
  },
  {
   "cell_type": "code",
   "execution_count": 17,
   "metadata": {},
   "outputs": [
    {
     "data": {
      "text/plain": [
       "'https://ngl.flywire.ai/?json_url=https://globalv1.flywire-daf.com/nglstate/5912498324635648'"
      ]
     },
     "execution_count": 17,
     "metadata": {},
     "output_type": "execute_result"
    }
   ],
   "source": [
    ">>> # Grab the top 30 downstream partnes\n",
    ">>> top30ds = edge_list[edge_list.pre.isin(da1_roots)].iloc[:30]\n",
    ">>> # Generate a URL with these partners\n",
    ">>> flywire.encode_url(segments=top30ds.post.values, open=False)"
   ]
  },
  {
   "cell_type": "raw",
   "metadata": {},
   "source": [
    "We can also generate an adjacency matrix:"
   ]
  },
  {
   "cell_type": "code",
   "execution_count": 18,
   "metadata": {},
   "outputs": [
    {
     "name": "stdout",
     "output_type": "stream",
     "text": [
      "Using materialization version 630\n"
     ]
    },
    {
     "data": {
      "text/html": [
       "<div>\n",
       "<style scoped>\n",
       "    .dataframe tbody tr th:only-of-type {\n",
       "        vertical-align: middle;\n",
       "    }\n",
       "\n",
       "    .dataframe tbody tr th {\n",
       "        vertical-align: top;\n",
       "    }\n",
       "\n",
       "    .dataframe thead th {\n",
       "        text-align: right;\n",
       "    }\n",
       "</style>\n",
       "<table border=\"1\" class=\"dataframe\">\n",
       "  <thead>\n",
       "    <tr style=\"text-align: right;\">\n",
       "      <th>target</th>\n",
       "      <th>720575940604407468</th>\n",
       "      <th>720575940623543881</th>\n",
       "      <th>720575940637469254</th>\n",
       "      <th>720575940617229632</th>\n",
       "      <th>720575940621239679</th>\n",
       "      <th>720575940623303108</th>\n",
       "      <th>720575940630066007</th>\n",
       "    </tr>\n",
       "    <tr>\n",
       "      <th>source</th>\n",
       "      <th></th>\n",
       "      <th></th>\n",
       "      <th></th>\n",
       "      <th></th>\n",
       "      <th></th>\n",
       "      <th></th>\n",
       "      <th></th>\n",
       "    </tr>\n",
       "  </thead>\n",
       "  <tbody>\n",
       "    <tr>\n",
       "      <th>720575940604407468</th>\n",
       "      <td>0.0</td>\n",
       "      <td>2.0</td>\n",
       "      <td>1.0</td>\n",
       "      <td>2.0</td>\n",
       "      <td>1.0</td>\n",
       "      <td>1.0</td>\n",
       "      <td>1.0</td>\n",
       "    </tr>\n",
       "    <tr>\n",
       "      <th>720575940623543881</th>\n",
       "      <td>0.0</td>\n",
       "      <td>0.0</td>\n",
       "      <td>2.0</td>\n",
       "      <td>0.0</td>\n",
       "      <td>0.0</td>\n",
       "      <td>2.0</td>\n",
       "      <td>0.0</td>\n",
       "    </tr>\n",
       "    <tr>\n",
       "      <th>720575940637469254</th>\n",
       "      <td>0.0</td>\n",
       "      <td>2.0</td>\n",
       "      <td>0.0</td>\n",
       "      <td>3.0</td>\n",
       "      <td>0.0</td>\n",
       "      <td>1.0</td>\n",
       "      <td>1.0</td>\n",
       "    </tr>\n",
       "    <tr>\n",
       "      <th>720575940617229632</th>\n",
       "      <td>1.0</td>\n",
       "      <td>2.0</td>\n",
       "      <td>1.0</td>\n",
       "      <td>0.0</td>\n",
       "      <td>2.0</td>\n",
       "      <td>1.0</td>\n",
       "      <td>1.0</td>\n",
       "    </tr>\n",
       "    <tr>\n",
       "      <th>720575940621239679</th>\n",
       "      <td>6.0</td>\n",
       "      <td>1.0</td>\n",
       "      <td>1.0</td>\n",
       "      <td>5.0</td>\n",
       "      <td>0.0</td>\n",
       "      <td>0.0</td>\n",
       "      <td>2.0</td>\n",
       "    </tr>\n",
       "    <tr>\n",
       "      <th>720575940623303108</th>\n",
       "      <td>0.0</td>\n",
       "      <td>1.0</td>\n",
       "      <td>1.0</td>\n",
       "      <td>0.0</td>\n",
       "      <td>1.0</td>\n",
       "      <td>0.0</td>\n",
       "      <td>0.0</td>\n",
       "    </tr>\n",
       "    <tr>\n",
       "      <th>720575940630066007</th>\n",
       "      <td>0.0</td>\n",
       "      <td>4.0</td>\n",
       "      <td>0.0</td>\n",
       "      <td>1.0</td>\n",
       "      <td>3.0</td>\n",
       "      <td>0.0</td>\n",
       "      <td>0.0</td>\n",
       "    </tr>\n",
       "  </tbody>\n",
       "</table>\n",
       "</div>"
      ],
      "text/plain": [
       "target              720575940604407468  720575940623543881  \\\n",
       "source                                                       \n",
       "720575940604407468                 0.0                 2.0   \n",
       "720575940623543881                 0.0                 0.0   \n",
       "720575940637469254                 0.0                 2.0   \n",
       "720575940617229632                 1.0                 2.0   \n",
       "720575940621239679                 6.0                 1.0   \n",
       "720575940623303108                 0.0                 1.0   \n",
       "720575940630066007                 0.0                 4.0   \n",
       "\n",
       "target              720575940637469254  720575940617229632  \\\n",
       "source                                                       \n",
       "720575940604407468                 1.0                 2.0   \n",
       "720575940623543881                 2.0                 0.0   \n",
       "720575940637469254                 0.0                 3.0   \n",
       "720575940617229632                 1.0                 0.0   \n",
       "720575940621239679                 1.0                 5.0   \n",
       "720575940623303108                 1.0                 0.0   \n",
       "720575940630066007                 0.0                 1.0   \n",
       "\n",
       "target              720575940621239679  720575940623303108  720575940630066007  \n",
       "source                                                                          \n",
       "720575940604407468                 1.0                 1.0                 1.0  \n",
       "720575940623543881                 0.0                 2.0                 0.0  \n",
       "720575940637469254                 0.0                 1.0                 1.0  \n",
       "720575940617229632                 2.0                 1.0                 1.0  \n",
       "720575940621239679                 0.0                 0.0                 2.0  \n",
       "720575940623303108                 1.0                 0.0                 0.0  \n",
       "720575940630066007                 3.0                 0.0                 0.0  "
      ]
     },
     "execution_count": 18,
     "metadata": {},
     "output_type": "execute_result"
    }
   ],
   "source": [
    ">>> adj = flywire.get_adjacency(sources=da1_roots, targets=da1_roots)\n",
    ">>> adj"
   ]
  },
  {
   "cell_type": "code",
   "execution_count": 19,
   "metadata": {},
   "outputs": [
    {
     "data": {
      "image/png": "[encoded data removed]",
      "text/plain": [
       "<Figure size 432x288 with 2 Axes>"
      ]
     },
     "metadata": {
      "needs_background": "light"
     },
     "output_type": "display_data"
    }
   ],
   "source": [
    ">>> import seaborn as sns\n",
    ">>> ax = sns.heatmap(adj, cmap=\"Blues\", square=True)"
   ]
  },
  {
   "cell_type": "raw",
   "metadata": {
    "raw_mimetype": "text/restructuredtext",
    "tags": []
   },
   "source": [
    "I hope this tutorial gave you a flavor and some entry points to start using these\n",
    "data. Please see the :ref:`API reference<api>` for a full list of\n",
    "connectivity-related functions."
   ]
  }
 ],
 "metadata": {
  "kernelspec": {
   "display_name": "Python 3 (ipykernel)",
   "language": "python",
   "name": "python3"
  },
  "language_info": {
   "codemirror_mode": {
    "name": "ipython",
    "version": 3
   },
   "file_extension": ".py",
   "mimetype": "text/x-python",
   "name": "python",
   "nbconvert_exporter": "python",
   "pygments_lexer": "ipython3",
   "version": "3.9.9"
  },
  "widgets": {
   "application/vnd.jupyter.widget-state+json": {
    "state": {},
    "version_major": 2,
    "version_minor": 0
   }
  }
 },
 "nbformat": 4,
 "nbformat_minor": 4
}
