{
 "cells": [
  {
   "cell_type": "raw",
   "metadata": {
    "raw_mimetype": "text/restructuredtext"
   },
   "source": [
    ".. _connectivity:\n",
    "\n",
    "Fetching synaptic partners\n",
    "==========================\n",
    "In this notebook you will learn how to fetch synaptic partners of neurons of interest using the Buhmann *et al.* (2019) predictions. We will do this for flywire neurons as this is easier because we don't have to map a skeleton ID to Google segmentation ID(s) before querying synaptic partners. That being said, the connectivity functions in ``fafbseg`` usually come in pairs - one for ``flywire`` and one for ``google``.\n",
    "\n",
    "Let's get started:"
   ]
  },
  {
   "cell_type": "code",
   "execution_count": 1,
   "metadata": {},
   "outputs": [
    {
     "data": {
      "text/html": [
       "        <script type=\"text/javascript\">\n",
       "        window.PlotlyConfig = {MathJaxConfig: 'local'};\n",
       "        if (window.MathJax) {MathJax.Hub.Config({SVG: {font: \"STIX-Web\"}});}\n",
       "        if (typeof require !== 'undefined') {\n",
       "        require.undef(\"plotly\");\n",
       "        requirejs.config({\n",
       "            paths: {\n",
       "                'plotly': ['https://cdn.plot.ly/plotly-latest.min']\n",
       "            }\n",
       "        });\n",
       "        require(['plotly'], function(Plotly) {\n",
       "            window._Plotly = Plotly;\n",
       "        });\n",
       "        }\n",
       "        </script>\n",
       "        "
      ]
     },
     "metadata": {},
     "output_type": "display_data"
    }
   ],
   "source": [
    "import fafbseg\n",
    "\n",
    "# These are current root IDs of RHS DA1 uPNs\n",
    "da1_roots = [720575940638875637, 720575940615709888, 720575940606946929,\n",
    "            720575940613822651, 720575940647428473, 720575940627629612,\n",
    "            720575940617947045, 720575940633937527]"
   ]
  },
  {
   "cell_type": "code",
   "execution_count": 2,
   "metadata": {},
   "outputs": [
    {
     "data": {
      "application/vnd.jupyter.widget-view+json": {
       "model_id": "",
       "version_major": 2,
       "version_minor": 0
      },
      "text/plain": [
       "HBox(children=(HTML(value='Querying'), FloatProgress(value=0.0, max=8.0), HTML(value='')))"
      ]
     },
     "metadata": {},
     "output_type": "display_data"
    },
    {
     "data": {
      "text/html": [
       "<div>\n",
       "<style scoped>\n",
       "    .dataframe tbody tr th:only-of-type {\n",
       "        vertical-align: middle;\n",
       "    }\n",
       "\n",
       "    .dataframe tbody tr th {\n",
       "        vertical-align: top;\n",
       "    }\n",
       "\n",
       "    .dataframe thead th {\n",
       "        text-align: right;\n",
       "    }\n",
       "</style>\n",
       "<table border=\"1\" class=\"dataframe\">\n",
       "  <thead>\n",
       "    <tr style=\"text-align: right;\">\n",
       "      <th></th>\n",
       "      <th>relation</th>\n",
       "      <th>720575940638875637</th>\n",
       "      <th>720575940615709888</th>\n",
       "      <th>720575940606946929</th>\n",
       "      <th>720575940613822651</th>\n",
       "      <th>720575940647428473</th>\n",
       "      <th>720575940627629612</th>\n",
       "      <th>720575940617947045</th>\n",
       "      <th>720575940633937527</th>\n",
       "      <th>total</th>\n",
       "    </tr>\n",
       "    <tr>\n",
       "      <th>id</th>\n",
       "      <th></th>\n",
       "      <th></th>\n",
       "      <th></th>\n",
       "      <th></th>\n",
       "      <th></th>\n",
       "      <th></th>\n",
       "      <th></th>\n",
       "      <th></th>\n",
       "      <th></th>\n",
       "      <th></th>\n",
       "    </tr>\n",
       "  </thead>\n",
       "  <tbody>\n",
       "    <tr>\n",
       "      <th>720575940617169048</th>\n",
       "      <td>upstream</td>\n",
       "      <td>29.0</td>\n",
       "      <td>40.0</td>\n",
       "      <td>23.0</td>\n",
       "      <td>6.0</td>\n",
       "      <td>26.0</td>\n",
       "      <td>14.0</td>\n",
       "      <td>36.0</td>\n",
       "      <td>29.0</td>\n",
       "      <td>203.0</td>\n",
       "    </tr>\n",
       "    <tr>\n",
       "      <th>720575940617947045</th>\n",
       "      <td>upstream</td>\n",
       "      <td>2.0</td>\n",
       "      <td>0.0</td>\n",
       "      <td>0.0</td>\n",
       "      <td>0.0</td>\n",
       "      <td>1.0</td>\n",
       "      <td>0.0</td>\n",
       "      <td>184.0</td>\n",
       "      <td>0.0</td>\n",
       "      <td>187.0</td>\n",
       "    </tr>\n",
       "    <tr>\n",
       "      <th>720575940638875637</th>\n",
       "      <td>upstream</td>\n",
       "      <td>172.0</td>\n",
       "      <td>3.0</td>\n",
       "      <td>1.0</td>\n",
       "      <td>0.0</td>\n",
       "      <td>0.0</td>\n",
       "      <td>3.0</td>\n",
       "      <td>0.0</td>\n",
       "      <td>1.0</td>\n",
       "      <td>180.0</td>\n",
       "    </tr>\n",
       "    <tr>\n",
       "      <th>720575940615709888</th>\n",
       "      <td>upstream</td>\n",
       "      <td>1.0</td>\n",
       "      <td>172.0</td>\n",
       "      <td>0.0</td>\n",
       "      <td>2.0</td>\n",
       "      <td>0.0</td>\n",
       "      <td>0.0</td>\n",
       "      <td>0.0</td>\n",
       "      <td>3.0</td>\n",
       "      <td>178.0</td>\n",
       "    </tr>\n",
       "    <tr>\n",
       "      <th>720575940633937527</th>\n",
       "      <td>upstream</td>\n",
       "      <td>0.0</td>\n",
       "      <td>3.0</td>\n",
       "      <td>2.0</td>\n",
       "      <td>7.0</td>\n",
       "      <td>3.0</td>\n",
       "      <td>0.0</td>\n",
       "      <td>3.0</td>\n",
       "      <td>155.0</td>\n",
       "      <td>173.0</td>\n",
       "    </tr>\n",
       "  </tbody>\n",
       "</table>\n",
       "</div>"
      ],
      "text/plain": [
       "                    relation  720575940638875637  720575940615709888  \\\n",
       "id                                                                     \n",
       "720575940617169048  upstream                29.0                40.0   \n",
       "720575940617947045  upstream                 2.0                 0.0   \n",
       "720575940638875637  upstream               172.0                 3.0   \n",
       "720575940615709888  upstream                 1.0               172.0   \n",
       "720575940633937527  upstream                 0.0                 3.0   \n",
       "\n",
       "                    720575940606946929  720575940613822651  \\\n",
       "id                                                           \n",
       "720575940617169048                23.0                 6.0   \n",
       "720575940617947045                 0.0                 0.0   \n",
       "720575940638875637                 1.0                 0.0   \n",
       "720575940615709888                 0.0                 2.0   \n",
       "720575940633937527                 2.0                 7.0   \n",
       "\n",
       "                    720575940647428473  720575940627629612  \\\n",
       "id                                                           \n",
       "720575940617169048                26.0                14.0   \n",
       "720575940617947045                 1.0                 0.0   \n",
       "720575940638875637                 0.0                 3.0   \n",
       "720575940615709888                 0.0                 0.0   \n",
       "720575940633937527                 3.0                 0.0   \n",
       "\n",
       "                    720575940617947045  720575940633937527  total  \n",
       "id                                                                 \n",
       "720575940617169048                36.0                29.0  203.0  \n",
       "720575940617947045               184.0                 0.0  187.0  \n",
       "720575940638875637                 0.0                 1.0  180.0  \n",
       "720575940615709888                 0.0                 3.0  178.0  \n",
       "720575940633937527                 3.0               155.0  173.0  "
      ]
     },
     "execution_count": 2,
     "metadata": {},
     "output_type": "execute_result"
    }
   ],
   "source": [
    "# Get partners of these neurons\n",
    "cn_table = fafbseg.flywire.fetch_connectivity(da1_roots, style='catmaid')\n",
    "cn_table.head()"
   ]
  },
  {
   "cell_type": "code",
   "execution_count": 4,
   "metadata": {},
   "outputs": [
    {
     "data": {
      "text/plain": [
       "'https://ngl.flywire.ai/?json_url=https://globalv1.flywire-daf.com/nglstate/5112574693605376'"
      ]
     },
     "execution_count": 4,
     "metadata": {},
     "output_type": "execute_result"
    }
   ],
   "source": [
    "# Generate a neuroglancer link with the top 30 downstream partners\n",
    "top30ds = cn_table[cn_table.relation == 'downstream'].iloc[:30]\n",
    "fafbseg.flywire.encode_url(segments=top30ds.index.values, open_browser=True)"
   ]
  }
 ],
 "metadata": {
  "celltoolbar": "Raw Cell Format",
  "kernelspec": {
   "display_name": "Python 3",
   "language": "python",
   "name": "python3"
  },
  "language_info": {
   "codemirror_mode": {
    "name": "ipython",
    "version": 3
   },
   "file_extension": ".py",
   "mimetype": "text/x-python",
   "name": "python",
   "nbconvert_exporter": "python",
   "pygments_lexer": "ipython3",
   "version": "3.7.5"
  }
 },
 "nbformat": 4,
 "nbformat_minor": 2
}
